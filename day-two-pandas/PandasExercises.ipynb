{
 "cells": [
  {
   "cell_type": "markdown",
   "metadata": {},
   "source": [
    "Exercises For Data Basics Day 2"
   ]
  },
  {
   "cell_type": "markdown",
   "metadata": {},
   "source": [
    "EXERCISE 1- Exploring and summarizing data - head, describe, sample. shape. mean. value_counts. sum. median. std. var. etc. dtypes.\n",
    "\n",
    " Analyzing PGH tree data with descriptive statistics.\n",
    "\n",
    "What is the average height and width of PGH trees.\n",
    "\n",
    "ON what street is the tallest tree?\n",
    "\n",
    "In what neighborhood is the widest tree?\n",
    "\n",
    "What is the tallest type of tree in pittsburgh on average?"
   ]
  },
  {
   "cell_type": "code",
   "execution_count": 20,
   "metadata": {},
   "outputs": [
    {
     "name": "stderr",
     "output_type": "stream",
     "text": [
      "c:\\program files (x86)\\microsoft visual studio\\shared\\python36_64\\lib\\site-packages\\IPython\\core\\interactiveshell.py:2728: DtypeWarning: Columns (2) have mixed types. Specify dtype option on import or set low_memory=False.\n",
      "  interactivity=interactivity, compiler=compiler, result=result)\n"
     ]
    }
   ],
   "source": [
    "import pandas as pd\n",
    "\n",
    "#First step read csv into dataframe \n",
    "tree_data = pd.read_csv(\"Tree_data.csv\")\n",
    "\n",
    "#do we really need an index column "
   ]
  },
  {
   "cell_type": "code",
   "execution_count": null,
   "metadata": {},
   "outputs": [],
   "source": []
  },
  {
   "cell_type": "code",
   "execution_count": null,
   "metadata": {},
   "outputs": [],
   "source": []
  },
  {
   "cell_type": "code",
   "execution_count": null,
   "metadata": {},
   "outputs": [],
   "source": []
  },
  {
   "cell_type": "code",
   "execution_count": null,
   "metadata": {},
   "outputs": [],
   "source": []
  },
  {
   "cell_type": "code",
   "execution_count": null,
   "metadata": {},
   "outputs": [],
   "source": []
  },
  {
   "cell_type": "code",
   "execution_count": 21,
   "metadata": {},
   "outputs": [
    {
     "data": {
      "text/plain": [
       "(45310, 59)"
      ]
     },
     "execution_count": 21,
     "metadata": {},
     "output_type": "execute_result"
    }
   ],
   "source": [
    "tree_data.shape"
   ]
  },
  {
   "cell_type": "code",
   "execution_count": 22,
   "metadata": {},
   "outputs": [
    {
     "data": {
      "text/html": [
       "<div>\n",
       "<style scoped>\n",
       "    .dataframe tbody tr th:only-of-type {\n",
       "        vertical-align: middle;\n",
       "    }\n",
       "\n",
       "    .dataframe tbody tr th {\n",
       "        vertical-align: top;\n",
       "    }\n",
       "\n",
       "    .dataframe thead th {\n",
       "        text-align: right;\n",
       "    }\n",
       "</style>\n",
       "<table border=\"1\" class=\"dataframe\">\n",
       "  <thead>\n",
       "    <tr style=\"text-align: right;\">\n",
       "      <th></th>\n",
       "      <th>_id</th>\n",
       "      <th>id</th>\n",
       "      <th>address_number</th>\n",
       "      <th>street</th>\n",
       "      <th>common_name</th>\n",
       "      <th>scientific_name</th>\n",
       "      <th>height</th>\n",
       "      <th>width</th>\n",
       "      <th>growth_space_length</th>\n",
       "      <th>growth_space_width</th>\n",
       "      <th>...</th>\n",
       "      <th>neighborhood</th>\n",
       "      <th>council_district</th>\n",
       "      <th>ward</th>\n",
       "      <th>tract</th>\n",
       "      <th>public_works_division</th>\n",
       "      <th>pli_division</th>\n",
       "      <th>police_zone</th>\n",
       "      <th>fire_zone</th>\n",
       "      <th>latitude</th>\n",
       "      <th>longitude</th>\n",
       "    </tr>\n",
       "  </thead>\n",
       "  <tbody>\n",
       "    <tr>\n",
       "      <th>0</th>\n",
       "      <td>6201</td>\n",
       "      <td>494907651</td>\n",
       "      <td>667</td>\n",
       "      <td>PENN AVE</td>\n",
       "      <td>Ginkgo</td>\n",
       "      <td>Ginkgo biloba</td>\n",
       "      <td>18.0</td>\n",
       "      <td>9.0</td>\n",
       "      <td>5.0</td>\n",
       "      <td>5.0</td>\n",
       "      <td>...</td>\n",
       "      <td>Central Business District</td>\n",
       "      <td>6.0</td>\n",
       "      <td>2.0</td>\n",
       "      <td>42003020100</td>\n",
       "      <td>6.0</td>\n",
       "      <td>2.0</td>\n",
       "      <td>2.0</td>\n",
       "      <td>1-3</td>\n",
       "      <td>40.443243</td>\n",
       "      <td>-80.000526</td>\n",
       "    </tr>\n",
       "    <tr>\n",
       "      <th>1</th>\n",
       "      <td>6202</td>\n",
       "      <td>1094044963</td>\n",
       "      <td>201</td>\n",
       "      <td>S LEXINGTON ST</td>\n",
       "      <td>Sweetgum: American</td>\n",
       "      <td>Liquidambar styraciflua</td>\n",
       "      <td>40.0</td>\n",
       "      <td>10.0</td>\n",
       "      <td>4.0</td>\n",
       "      <td>4.0</td>\n",
       "      <td>...</td>\n",
       "      <td>Point Breeze</td>\n",
       "      <td>9.0</td>\n",
       "      <td>14.0</td>\n",
       "      <td>42003140600</td>\n",
       "      <td>3.0</td>\n",
       "      <td>14.0</td>\n",
       "      <td>4.0</td>\n",
       "      <td>3-14</td>\n",
       "      <td>40.447554</td>\n",
       "      <td>-79.900169</td>\n",
       "    </tr>\n",
       "    <tr>\n",
       "      <th>2</th>\n",
       "      <td>6203</td>\n",
       "      <td>292899507</td>\n",
       "      <td>201</td>\n",
       "      <td>S LEXINGTON ST</td>\n",
       "      <td>Pagodatree: Japanese</td>\n",
       "      <td>Sophora japonica</td>\n",
       "      <td>25.0</td>\n",
       "      <td>12.0</td>\n",
       "      <td>99.0</td>\n",
       "      <td>99.0</td>\n",
       "      <td>...</td>\n",
       "      <td>Point Breeze</td>\n",
       "      <td>9.0</td>\n",
       "      <td>14.0</td>\n",
       "      <td>42003140600</td>\n",
       "      <td>3.0</td>\n",
       "      <td>14.0</td>\n",
       "      <td>4.0</td>\n",
       "      <td>3-14</td>\n",
       "      <td>40.447247</td>\n",
       "      <td>-79.899926</td>\n",
       "    </tr>\n",
       "    <tr>\n",
       "      <th>3</th>\n",
       "      <td>6204</td>\n",
       "      <td>1474662812</td>\n",
       "      <td>211</td>\n",
       "      <td>S LEXINGTON ST</td>\n",
       "      <td>Birch: River</td>\n",
       "      <td>Betula nigra</td>\n",
       "      <td>35.0</td>\n",
       "      <td>6.0</td>\n",
       "      <td>99.0</td>\n",
       "      <td>99.0</td>\n",
       "      <td>...</td>\n",
       "      <td>Point Breeze</td>\n",
       "      <td>9.0</td>\n",
       "      <td>14.0</td>\n",
       "      <td>42003140600</td>\n",
       "      <td>3.0</td>\n",
       "      <td>14.0</td>\n",
       "      <td>4.0</td>\n",
       "      <td>3-14</td>\n",
       "      <td>40.447159</td>\n",
       "      <td>-79.899924</td>\n",
       "    </tr>\n",
       "    <tr>\n",
       "      <th>4</th>\n",
       "      <td>41402</td>\n",
       "      <td>1756120617</td>\n",
       "      <td>3037</td>\n",
       "      <td>ZEPHYR AVE</td>\n",
       "      <td>Vacant Site Small</td>\n",
       "      <td>Vacant Site Small</td>\n",
       "      <td>NaN</td>\n",
       "      <td>NaN</td>\n",
       "      <td>NaN</td>\n",
       "      <td>NaN</td>\n",
       "      <td>...</td>\n",
       "      <td>Sheraden</td>\n",
       "      <td>2.0</td>\n",
       "      <td>20.0</td>\n",
       "      <td>42003562500</td>\n",
       "      <td>5.0</td>\n",
       "      <td>20.0</td>\n",
       "      <td>6.0</td>\n",
       "      <td>1-16</td>\n",
       "      <td>40.457238</td>\n",
       "      <td>-80.054393</td>\n",
       "    </tr>\n",
       "  </tbody>\n",
       "</table>\n",
       "<p>5 rows × 59 columns</p>\n",
       "</div>"
      ],
      "text/plain": [
       "     _id          id address_number          street           common_name  \\\n",
       "0   6201   494907651            667        PENN AVE                Ginkgo   \n",
       "1   6202  1094044963            201  S LEXINGTON ST    Sweetgum: American   \n",
       "2   6203   292899507            201  S LEXINGTON ST  Pagodatree: Japanese   \n",
       "3   6204  1474662812            211  S LEXINGTON ST          Birch: River   \n",
       "4  41402  1756120617           3037      ZEPHYR AVE     Vacant Site Small   \n",
       "\n",
       "           scientific_name  height  width  growth_space_length  \\\n",
       "0            Ginkgo biloba    18.0    9.0                  5.0   \n",
       "1  Liquidambar styraciflua    40.0   10.0                  4.0   \n",
       "2         Sophora japonica    25.0   12.0                 99.0   \n",
       "3             Betula nigra    35.0    6.0                 99.0   \n",
       "4        Vacant Site Small     NaN    NaN                  NaN   \n",
       "\n",
       "   growth_space_width    ...                   neighborhood  council_district  \\\n",
       "0                 5.0    ...      Central Business District               6.0   \n",
       "1                 4.0    ...                   Point Breeze               9.0   \n",
       "2                99.0    ...                   Point Breeze               9.0   \n",
       "3                99.0    ...                   Point Breeze               9.0   \n",
       "4                 NaN    ...                       Sheraden               2.0   \n",
       "\n",
       "   ward        tract public_works_division pli_division  police_zone  \\\n",
       "0   2.0  42003020100                   6.0          2.0          2.0   \n",
       "1  14.0  42003140600                   3.0         14.0          4.0   \n",
       "2  14.0  42003140600                   3.0         14.0          4.0   \n",
       "3  14.0  42003140600                   3.0         14.0          4.0   \n",
       "4  20.0  42003562500                   5.0         20.0          6.0   \n",
       "\n",
       "   fire_zone   latitude  longitude  \n",
       "0        1-3  40.443243 -80.000526  \n",
       "1       3-14  40.447554 -79.900169  \n",
       "2       3-14  40.447247 -79.899926  \n",
       "3       3-14  40.447159 -79.899924  \n",
       "4       1-16  40.457238 -80.054393  \n",
       "\n",
       "[5 rows x 59 columns]"
      ]
     },
     "execution_count": 22,
     "metadata": {},
     "output_type": "execute_result"
    }
   ],
   "source": [
    "tree_data.head()"
   ]
  },
  {
   "cell_type": "code",
   "execution_count": 23,
   "metadata": {},
   "outputs": [
    {
     "name": "stdout",
     "output_type": "stream",
     "text": [
      "The average height of trees in Pittsburgh is 22.16 feet\n"
     ]
    }
   ],
   "source": [
    "#What is the average height of Pittsburgh Trees?\n",
    "\n",
    "tree_height_mean = tree_data[\"height\"].mean()\n",
    "\n",
    "print(\"The average height of trees in Pittsburgh is\", \"{:.2f}\".format(tree_height_mean), \"feet\")\n"
   ]
  },
  {
   "cell_type": "code",
   "execution_count": 24,
   "metadata": {},
   "outputs": [
    {
     "name": "stdout",
     "output_type": "stream",
     "text": [
      "The average width of trees in Pittsburgh is 6.99 feet\n"
     ]
    }
   ],
   "source": [
    "#What is the average width of Pittsburgh trees?\n",
    "\n",
    "tree_width_mean = tree_data[\"width\"].mean()\n",
    "\n",
    "print(\"The average width of trees in Pittsburgh is\", \"{:.2f}\".format(tree_width_mean), \"feet\")"
   ]
  },
  {
   "cell_type": "code",
   "execution_count": null,
   "metadata": {},
   "outputs": [],
   "source": [
    "#tree_data.sort_values('height', ascending=False)"
   ]
  },
  {
   "cell_type": "code",
   "execution_count": 28,
   "metadata": {},
   "outputs": [
    {
     "data": {
      "text/plain": [
       "'39TH ST'"
      ]
     },
     "execution_count": 28,
     "metadata": {},
     "output_type": "execute_result"
    }
   ],
   "source": [
    "#On what street is the tallest tree?\n",
    "tallest_tree = tree_data[\"height\"].idxmax()\n",
    "\n",
    "#print(\"The tallest tree is on\", tree_data.loc[tallest_tree][\"street\"])\n",
    "\n",
    "tree_data.loc[tallest_tree][\"street\"]"
   ]
  },
  {
   "cell_type": "code",
   "execution_count": null,
   "metadata": {},
   "outputs": [],
   "source": [
    "#In what neighborhood is the widest tree?"
   ]
  },
  {
   "cell_type": "code",
   "execution_count": null,
   "metadata": {},
   "outputs": [],
   "source": [
    "tree_data.sort_values['width', ascending=False)\n",
    "\n"
   ]
  },
  {
   "cell_type": "code",
   "execution_count": 33,
   "metadata": {},
   "outputs": [
    {
     "name": "stdout",
     "output_type": "stream",
     "text": [
      "The widest tree is in Highland Park\n"
     ]
    }
   ],
   "source": [
    "#Find the widest tree\n",
    "print(\"The widest tree is in\",tree_data.loc[tree_data[\"width\"].idxmax()][\"neighborhood\"])"
   ]
  },
  {
   "cell_type": "markdown",
   "metadata": {},
   "source": [
    "-\n",
    "-\n",
    "-\n",
    "-\n",
    "-\n",
    "-\n",
    "-\n",
    "-\n",
    "-"
   ]
  },
  {
   "cell_type": "markdown",
   "metadata": {},
   "source": [
    "\n",
    "\n",
    "Making plots to see what your data look like - 1D data - histogram. 2D data - bar.line. scatter plot. time series?\n",
    "\n",
    "EXERCISE - Plotting fake stock market data.\n",
    "\n",
    "\n",
    "Make a line chart of each stock value over time."
   ]
  },
  {
   "cell_type": "code",
   "execution_count": 90,
   "metadata": {},
   "outputs": [],
   "source": [
    "#Here we've created fake stock market data\n",
    "import numpy as np\n",
    "import matplotlib.pyplot as plt\n",
    "%matplotlib inline\n",
    "\n",
    "stocks = pd.DataFrame({ \n",
    "    'ticker':np.repeat( ['aapl','goog','yhoo','msft'], 25 ),\n",
    "    'date':np.tile( pd.date_range('1/1/2011', periods=25, freq='D'), 4 ),\n",
    "    'price':(np.random.randn(100).cumsum() + 10) })\n"
   ]
  },
  {
   "cell_type": "code",
   "execution_count": 92,
   "metadata": {},
   "outputs": [],
   "source": [
    "apple = stocks['ticker'] == 'aapl'\n",
    "google = stocks['ticker'] == 'goog'\n",
    "yahoo = stocks['ticker'] == 'yhoo'\n",
    "microsoft = stocks['ticker'] == 'msft'"
   ]
  },
  {
   "cell_type": "code",
   "execution_count": 98,
   "metadata": {},
   "outputs": [
    {
     "data": {
      "text/plain": [
       "<matplotlib.axes._subplots.AxesSubplot at 0x1e654d52320>"
      ]
     },
     "execution_count": 98,
     "metadata": {},
     "output_type": "execute_result"
    },
    {
     "data": {
      "image/png": "[encoded data removed]",
      "text/plain": [
       "<Figure size 432x288 with 1 Axes>"
      ]
     },
     "metadata": {},
     "output_type": "display_data"
    }
   ],
   "source": [
    "stocks[google].plot(x=\"date\", y=\"price\")"
   ]
  },
  {
   "cell_type": "code",
   "execution_count": 99,
   "metadata": {},
   "outputs": [
    {
     "data": {
      "text/plain": [
       "<matplotlib.axes._subplots.AxesSubplot at 0x1e653f12d30>"
      ]
     },
     "execution_count": 99,
     "metadata": {},
     "output_type": "execute_result"
    },
    {
     "data": {
      "image/png": "[encoded data removed]",
      "text/plain": [
       "<Figure size 432x288 with 1 Axes>"
      ]
     },
     "metadata": {},
     "output_type": "display_data"
    }
   ],
   "source": [
    "stocks[apple].plot(x=\"date\", y=\"price\")"
   ]
  },
  {
   "cell_type": "code",
   "execution_count": 100,
   "metadata": {},
   "outputs": [
    {
     "data": {
      "text/plain": [
       "<matplotlib.axes._subplots.AxesSubplot at 0x1e654ded978>"
      ]
     },
     "execution_count": 100,
     "metadata": {},
     "output_type": "execute_result"
    },
    {
     "data": {
      "image/png": "[encoded data removed]",
      "text/plain": [
       "<Figure size 432x288 with 1 Axes>"
      ]
     },
     "metadata": {},
     "output_type": "display_data"
    }
   ],
   "source": [
    "stocks[yahoo].plot(x=\"date\", y=\"price\")"
   ]
  },
  {
   "cell_type": "code",
   "execution_count": 101,
   "metadata": {},
   "outputs": [
    {
     "data": {
      "text/plain": [
       "<matplotlib.axes._subplots.AxesSubplot at 0x1e654dcae80>"
      ]
     },
     "execution_count": 101,
     "metadata": {},
     "output_type": "execute_result"
    },
    {
     "data": {
      "image/png": "[encoded data removed]",
      "text/plain": [
       "<Figure size 432x288 with 1 Axes>"
      ]
     },
     "metadata": {},
     "output_type": "display_data"
    }
   ],
   "source": [
    "stocks[microsoft].plot(x=\"date\", y=\"price\")"
   ]
  },
  {
   "cell_type": "markdown",
   "metadata": {},
   "source": [
    "-\n",
    "-\n",
    "-\n",
    "-\n",
    "-\n",
    "-\n",
    "-\n",
    "-\n",
    "-\n",
    "-\n",
    "-\n",
    "-"
   ]
  },
  {
   "cell_type": "markdown",
   "metadata": {},
   "source": [
    "Split Apply Combine. groupby.\n",
    "\n",
    "EXERCISE - 311 Data. Tree data.\n",
    "\n",
    "What neightborhood complains the most?\n",
    "\n"
   ]
  },
  {
   "cell_type": "code",
   "execution_count": null,
   "metadata": {},
   "outputs": [],
   "source": []
  },
  {
   "cell_type": "code",
   "execution_count": null,
   "metadata": {},
   "outputs": [],
   "source": []
  },
  {
   "cell_type": "code",
   "execution_count": null,
   "metadata": {},
   "outputs": [],
   "source": []
  },
  {
   "cell_type": "code",
   "execution_count": null,
   "metadata": {},
   "outputs": [],
   "source": []
  },
  {
   "cell_type": "code",
   "execution_count": null,
   "metadata": {},
   "outputs": [],
   "source": []
  },
  {
   "cell_type": "code",
   "execution_count": 46,
   "metadata": {},
   "outputs": [],
   "source": [
    "data_311 = pd.read_csv('311_data.csv')"
   ]
  },
  {
   "cell_type": "code",
   "execution_count": 47,
   "metadata": {},
   "outputs": [
    {
     "data": {
      "text/html": [
       "<div>\n",
       "<style scoped>\n",
       "    .dataframe tbody tr th:only-of-type {\n",
       "        vertical-align: middle;\n",
       "    }\n",
       "\n",
       "    .dataframe tbody tr th {\n",
       "        vertical-align: top;\n",
       "    }\n",
       "\n",
       "    .dataframe thead th {\n",
       "        text-align: right;\n",
       "    }\n",
       "</style>\n",
       "<table border=\"1\" class=\"dataframe\">\n",
       "  <thead>\n",
       "    <tr style=\"text-align: right;\">\n",
       "      <th></th>\n",
       "      <th>_id</th>\n",
       "      <th>REQUEST_ID</th>\n",
       "      <th>CREATED_ON</th>\n",
       "      <th>REQUEST_TYPE</th>\n",
       "      <th>REQUEST_ORIGIN</th>\n",
       "      <th>STATUS</th>\n",
       "      <th>DEPARTMENT</th>\n",
       "      <th>NEIGHBORHOOD</th>\n",
       "      <th>COUNCIL_DISTRICT</th>\n",
       "      <th>WARD</th>\n",
       "      <th>TRACT</th>\n",
       "      <th>PUBLIC_WORKS_DIVISION</th>\n",
       "      <th>PLI_DIVISION</th>\n",
       "      <th>POLICE_ZONE</th>\n",
       "      <th>FIRE_ZONE</th>\n",
       "      <th>X</th>\n",
       "      <th>Y</th>\n",
       "      <th>GEO_ACCURACY</th>\n",
       "    </tr>\n",
       "  </thead>\n",
       "  <tbody>\n",
       "    <tr>\n",
       "      <th>0</th>\n",
       "      <td>208378</td>\n",
       "      <td>220546</td>\n",
       "      <td>2018-02-16T09:53:00</td>\n",
       "      <td>Potholes</td>\n",
       "      <td>Call Center</td>\n",
       "      <td>1</td>\n",
       "      <td>DPW - Street Maintenance</td>\n",
       "      <td>Banksville</td>\n",
       "      <td>2.0</td>\n",
       "      <td>20.0</td>\n",
       "      <td>4.200320e+10</td>\n",
       "      <td>5.0</td>\n",
       "      <td>20.0</td>\n",
       "      <td>6.0</td>\n",
       "      <td>4-9</td>\n",
       "      <td>-80.042757</td>\n",
       "      <td>40.406525</td>\n",
       "      <td>EXACT</td>\n",
       "    </tr>\n",
       "    <tr>\n",
       "      <th>1</th>\n",
       "      <td>265742</td>\n",
       "      <td>278835</td>\n",
       "      <td>2018-08-09T12:39:00</td>\n",
       "      <td>Sidewalk Obstruction</td>\n",
       "      <td>Twitter</td>\n",
       "      <td>0</td>\n",
       "      <td>DOMI - Permits</td>\n",
       "      <td>East Allegheny</td>\n",
       "      <td>1.0</td>\n",
       "      <td>23.0</td>\n",
       "      <td>4.200356e+10</td>\n",
       "      <td>1.0</td>\n",
       "      <td>23.0</td>\n",
       "      <td>1.0</td>\n",
       "      <td>1-6</td>\n",
       "      <td>-79.999409</td>\n",
       "      <td>40.453625</td>\n",
       "      <td>EXACT</td>\n",
       "    </tr>\n",
       "    <tr>\n",
       "      <th>2</th>\n",
       "      <td>265731</td>\n",
       "      <td>278825</td>\n",
       "      <td>2018-08-09T12:07:00</td>\n",
       "      <td>Litter Can, Public</td>\n",
       "      <td>Report2Gov iOS</td>\n",
       "      <td>3</td>\n",
       "      <td>DPW - Street Maintenance</td>\n",
       "      <td>Shadyside</td>\n",
       "      <td>8.0</td>\n",
       "      <td>7.0</td>\n",
       "      <td>4.200307e+10</td>\n",
       "      <td>2.0</td>\n",
       "      <td>7.0</td>\n",
       "      <td>4.0</td>\n",
       "      <td>2-23</td>\n",
       "      <td>-79.947403</td>\n",
       "      <td>40.453243</td>\n",
       "      <td>EXACT</td>\n",
       "    </tr>\n",
       "    <tr>\n",
       "      <th>3</th>\n",
       "      <td>265740</td>\n",
       "      <td>278833</td>\n",
       "      <td>2018-08-09T12:36:00</td>\n",
       "      <td>Hydrant</td>\n",
       "      <td>Twitter</td>\n",
       "      <td>1</td>\n",
       "      <td>Pittsburgh Water and Sewer Authority</td>\n",
       "      <td>Central Lawrenceville</td>\n",
       "      <td>7.0</td>\n",
       "      <td>9.0</td>\n",
       "      <td>4.200309e+10</td>\n",
       "      <td>2.0</td>\n",
       "      <td>9.0</td>\n",
       "      <td>2.0</td>\n",
       "      <td>3-5</td>\n",
       "      <td>-79.959508</td>\n",
       "      <td>40.477157</td>\n",
       "      <td>EXACT</td>\n",
       "    </tr>\n",
       "    <tr>\n",
       "      <th>4</th>\n",
       "      <td>265741</td>\n",
       "      <td>278834</td>\n",
       "      <td>2018-08-09T12:37:00</td>\n",
       "      <td>Early Set Out</td>\n",
       "      <td>Call Center</td>\n",
       "      <td>1</td>\n",
       "      <td>DPW - Refuse</td>\n",
       "      <td>Marshall-Shadeland</td>\n",
       "      <td>1.0</td>\n",
       "      <td>27.0</td>\n",
       "      <td>4.200327e+10</td>\n",
       "      <td>1.0</td>\n",
       "      <td>27.0</td>\n",
       "      <td>1.0</td>\n",
       "      <td>1-14</td>\n",
       "      <td>-80.027506</td>\n",
       "      <td>40.470529</td>\n",
       "      <td>APPROXIMATE</td>\n",
       "    </tr>\n",
       "  </tbody>\n",
       "</table>\n",
       "</div>"
      ],
      "text/plain": [
       "      _id  REQUEST_ID           CREATED_ON          REQUEST_TYPE  \\\n",
       "0  208378      220546  2018-02-16T09:53:00              Potholes   \n",
       "1  265742      278835  2018-08-09T12:39:00  Sidewalk Obstruction   \n",
       "2  265731      278825  2018-08-09T12:07:00    Litter Can, Public   \n",
       "3  265740      278833  2018-08-09T12:36:00               Hydrant   \n",
       "4  265741      278834  2018-08-09T12:37:00         Early Set Out   \n",
       "\n",
       "   REQUEST_ORIGIN  STATUS                            DEPARTMENT  \\\n",
       "0     Call Center       1              DPW - Street Maintenance   \n",
       "1         Twitter       0                        DOMI - Permits   \n",
       "2  Report2Gov iOS       3              DPW - Street Maintenance   \n",
       "3         Twitter       1  Pittsburgh Water and Sewer Authority   \n",
       "4     Call Center       1                          DPW - Refuse   \n",
       "\n",
       "            NEIGHBORHOOD  COUNCIL_DISTRICT  WARD         TRACT  \\\n",
       "0             Banksville               2.0  20.0  4.200320e+10   \n",
       "1         East Allegheny               1.0  23.0  4.200356e+10   \n",
       "2              Shadyside               8.0   7.0  4.200307e+10   \n",
       "3  Central Lawrenceville               7.0   9.0  4.200309e+10   \n",
       "4     Marshall-Shadeland               1.0  27.0  4.200327e+10   \n",
       "\n",
       "   PUBLIC_WORKS_DIVISION  PLI_DIVISION  POLICE_ZONE FIRE_ZONE          X  \\\n",
       "0                    5.0          20.0          6.0       4-9 -80.042757   \n",
       "1                    1.0          23.0          1.0       1-6 -79.999409   \n",
       "2                    2.0           7.0          4.0      2-23 -79.947403   \n",
       "3                    2.0           9.0          2.0       3-5 -79.959508   \n",
       "4                    1.0          27.0          1.0      1-14 -80.027506   \n",
       "\n",
       "           Y GEO_ACCURACY  \n",
       "0  40.406525        EXACT  \n",
       "1  40.453625        EXACT  \n",
       "2  40.453243        EXACT  \n",
       "3  40.477157        EXACT  \n",
       "4  40.470529  APPROXIMATE  "
      ]
     },
     "execution_count": 47,
     "metadata": {},
     "output_type": "execute_result"
    }
   ],
   "source": [
    "data_311.head()"
   ]
  },
  {
   "cell_type": "code",
   "execution_count": 74,
   "metadata": {},
   "outputs": [
    {
     "data": {
      "text/plain": [
       "NEIGHBORHOOD\n",
       "Allegheny Center               993\n",
       "Allegheny West                 512\n",
       "Allentown                     2973\n",
       "Arlington                     1953\n",
       "Arlington Heights               59\n",
       "Banksville                    1853\n",
       "Bedford Dwellings              597\n",
       "Beechview                     6469\n",
       "Beltzhoover                   2331\n",
       "Bloomfield                    7091\n",
       "Bluff                         1525\n",
       "Bon Air                        782\n",
       "Brighton Heights              3829\n",
       "Brookline                    10944\n",
       "California-Kirkbride           864\n",
       "Carrick                      10221\n",
       "Central Business District     5792\n",
       "Central Lawrenceville         5218\n",
       "Central Northside             2838\n",
       "Central Oakland               3099\n",
       "Chartiers City                 309\n",
       "Chateau                        486\n",
       "Crafton Heights               2225\n",
       "Crawford-Roberts              1752\n",
       "Duquesne Heights              1891\n",
       "East Allegheny                3411\n",
       "East Carnegie                  236\n",
       "East Hills                    2250\n",
       "East Liberty                  4776\n",
       "Elliott                       3562\n",
       "                             ...  \n",
       "Perry North                   3643\n",
       "Perry South                   3223\n",
       "Point Breeze                  3120\n",
       "Point Breeze North            1638\n",
       "Polish Hill                   1598\n",
       "Regent Square                  777\n",
       "Ridgemont                      330\n",
       "Shadyside                     5448\n",
       "Sheraden                      4384\n",
       "South Oakland                 3050\n",
       "South Shore                    456\n",
       "South Side Flats              7844\n",
       "South Side Slopes             8504\n",
       "Spring Garden                 1215\n",
       "Spring Hill-City View         1685\n",
       "Squirrel Hill North           4103\n",
       "Squirrel Hill South           8743\n",
       "St. Clair                      359\n",
       "Stanton Heights               3759\n",
       "Strip District                1896\n",
       "Summer Hill                    712\n",
       "Swisshelm Park                 806\n",
       "Terrace Village                766\n",
       "Troy Hill                     2633\n",
       "Upper Hill                    2267\n",
       "Upper Lawrenceville           2303\n",
       "West End                       760\n",
       "West Oakland                  1371\n",
       "Westwood                      1373\n",
       "Windgap                        928\n",
       "Length: 91, dtype: int64"
      ]
     },
     "execution_count": 74,
     "metadata": {},
     "output_type": "execute_result"
    }
   ],
   "source": [
    "data_311.groupby('NEIGHBORHOOD').size()\n",
    "\n",
    "\n"
   ]
  },
  {
   "cell_type": "code",
   "execution_count": 73,
   "metadata": {},
   "outputs": [
    {
     "name": "stdout",
     "output_type": "stream",
     "text": [
      "Brookline 10944\n"
     ]
    }
   ],
   "source": [
    "print(data_311['NEIGHBORHOOD'].value_counts().idxmax(), data_311['NEIGHBORHOOD'].value_counts().max())"
   ]
  },
  {
   "cell_type": "markdown",
   "metadata": {},
   "source": [
    "-\n",
    "-\n",
    "-\n",
    "-\n",
    "-\n",
    "-\n",
    "-\n",
    "-\n",
    "-\n",
    "-\n",
    "-\n",
    "-\n",
    "-\n",
    "-"
   ]
  },
  {
   "cell_type": "markdown",
   "metadata": {},
   "source": [
    "Querying and subsetting - Masking. Variables\n",
    "\n",
    "EXERCISE - time indexing and subsetting data and visuzlaing that subset\n",
    "\n",
    "Create a sub dataset of just the potholes in a neighborhood\n",
    "\n",
    "Create a plot of number of pothole complaints per month of that data subset"
   ]
  },
  {
   "cell_type": "code",
   "execution_count": null,
   "metadata": {},
   "outputs": [],
   "source": []
  },
  {
   "cell_type": "code",
   "execution_count": null,
   "metadata": {},
   "outputs": [],
   "source": []
  },
  {
   "cell_type": "code",
   "execution_count": null,
   "metadata": {},
   "outputs": [],
   "source": []
  },
  {
   "cell_type": "code",
   "execution_count": null,
   "metadata": {},
   "outputs": [],
   "source": []
  },
  {
   "cell_type": "code",
   "execution_count": null,
   "metadata": {},
   "outputs": [],
   "source": []
  },
  {
   "cell_type": "code",
   "execution_count": null,
   "metadata": {},
   "outputs": [],
   "source": []
  },
  {
   "cell_type": "code",
   "execution_count": 62,
   "metadata": {},
   "outputs": [],
   "source": [
    "#Create a sub dataset of just the potholes in Highland Park \n",
    "potholes = data_311['REQUEST_TYPE'] == \"Potholes\"\n",
    "\n",
    "highland_park= data_311['NEIGHBORHOOD'] == \"Highland Park\"\n",
    "\n",
    "\n"
   ]
  },
  {
   "cell_type": "code",
   "execution_count": 63,
   "metadata": {},
   "outputs": [
    {
     "name": "stdout",
     "output_type": "stream",
     "text": [
      "(841, 18)\n"
     ]
    },
    {
     "data": {
      "text/html": [
       "<div>\n",
       "<style scoped>\n",
       "    .dataframe tbody tr th:only-of-type {\n",
       "        vertical-align: middle;\n",
       "    }\n",
       "\n",
       "    .dataframe tbody tr th {\n",
       "        vertical-align: top;\n",
       "    }\n",
       "\n",
       "    .dataframe thead th {\n",
       "        text-align: right;\n",
       "    }\n",
       "</style>\n",
       "<table border=\"1\" class=\"dataframe\">\n",
       "  <thead>\n",
       "    <tr style=\"text-align: right;\">\n",
       "      <th></th>\n",
       "      <th>_id</th>\n",
       "      <th>REQUEST_ID</th>\n",
       "      <th>CREATED_ON</th>\n",
       "      <th>REQUEST_TYPE</th>\n",
       "      <th>REQUEST_ORIGIN</th>\n",
       "      <th>STATUS</th>\n",
       "      <th>DEPARTMENT</th>\n",
       "      <th>NEIGHBORHOOD</th>\n",
       "      <th>COUNCIL_DISTRICT</th>\n",
       "      <th>WARD</th>\n",
       "      <th>TRACT</th>\n",
       "      <th>PUBLIC_WORKS_DIVISION</th>\n",
       "      <th>PLI_DIVISION</th>\n",
       "      <th>POLICE_ZONE</th>\n",
       "      <th>FIRE_ZONE</th>\n",
       "      <th>X</th>\n",
       "      <th>Y</th>\n",
       "      <th>GEO_ACCURACY</th>\n",
       "    </tr>\n",
       "  </thead>\n",
       "  <tbody>\n",
       "    <tr>\n",
       "      <th>39</th>\n",
       "      <td>207609</td>\n",
       "      <td>219773</td>\n",
       "      <td>2018-02-15 08:21:00</td>\n",
       "      <td>Potholes</td>\n",
       "      <td>Report2Gov Android</td>\n",
       "      <td>1</td>\n",
       "      <td>DOMI - Streets</td>\n",
       "      <td>Highland Park</td>\n",
       "      <td>7.0</td>\n",
       "      <td>11.0</td>\n",
       "      <td>4.200311e+10</td>\n",
       "      <td>2.0</td>\n",
       "      <td>11.0</td>\n",
       "      <td>5.0</td>\n",
       "      <td>3-9</td>\n",
       "      <td>-79.922092</td>\n",
       "      <td>40.474525</td>\n",
       "      <td>EXACT</td>\n",
       "    </tr>\n",
       "    <tr>\n",
       "      <th>269</th>\n",
       "      <td>209826</td>\n",
       "      <td>221997</td>\n",
       "      <td>2018-02-19 22:28:00</td>\n",
       "      <td>Potholes</td>\n",
       "      <td>Website</td>\n",
       "      <td>1</td>\n",
       "      <td>DPW - Street Maintenance</td>\n",
       "      <td>Highland Park</td>\n",
       "      <td>7.0</td>\n",
       "      <td>11.0</td>\n",
       "      <td>4.200311e+10</td>\n",
       "      <td>2.0</td>\n",
       "      <td>11.0</td>\n",
       "      <td>5.0</td>\n",
       "      <td>3-9</td>\n",
       "      <td>-79.926712</td>\n",
       "      <td>40.472106</td>\n",
       "      <td>EXACT</td>\n",
       "    </tr>\n",
       "    <tr>\n",
       "      <th>699</th>\n",
       "      <td>266123</td>\n",
       "      <td>279201</td>\n",
       "      <td>2018-08-10 13:15:00</td>\n",
       "      <td>Potholes</td>\n",
       "      <td>Website</td>\n",
       "      <td>0</td>\n",
       "      <td>DPW - Street Maintenance</td>\n",
       "      <td>Highland Park</td>\n",
       "      <td>7.0</td>\n",
       "      <td>11.0</td>\n",
       "      <td>4.200311e+10</td>\n",
       "      <td>2.0</td>\n",
       "      <td>11.0</td>\n",
       "      <td>5.0</td>\n",
       "      <td>3-9</td>\n",
       "      <td>-79.926332</td>\n",
       "      <td>40.472210</td>\n",
       "      <td>EXACT</td>\n",
       "    </tr>\n",
       "    <tr>\n",
       "      <th>1055</th>\n",
       "      <td>220974</td>\n",
       "      <td>233370</td>\n",
       "      <td>2018-03-27 14:06:00</td>\n",
       "      <td>Potholes</td>\n",
       "      <td>Call Center</td>\n",
       "      <td>1</td>\n",
       "      <td>DPW - Street Maintenance</td>\n",
       "      <td>Highland Park</td>\n",
       "      <td>7.0</td>\n",
       "      <td>11.0</td>\n",
       "      <td>4.200311e+10</td>\n",
       "      <td>2.0</td>\n",
       "      <td>11.0</td>\n",
       "      <td>5.0</td>\n",
       "      <td>3-9</td>\n",
       "      <td>-79.916207</td>\n",
       "      <td>40.477545</td>\n",
       "      <td>EXACT</td>\n",
       "    </tr>\n",
       "    <tr>\n",
       "      <th>1074</th>\n",
       "      <td>221264</td>\n",
       "      <td>233827</td>\n",
       "      <td>2018-03-29 08:56:00</td>\n",
       "      <td>Potholes</td>\n",
       "      <td>Twitter</td>\n",
       "      <td>1</td>\n",
       "      <td>DPW - Street Maintenance</td>\n",
       "      <td>Highland Park</td>\n",
       "      <td>7.0</td>\n",
       "      <td>10.0</td>\n",
       "      <td>4.200310e+10</td>\n",
       "      <td>2.0</td>\n",
       "      <td>10.0</td>\n",
       "      <td>5.0</td>\n",
       "      <td>3-7</td>\n",
       "      <td>-79.920057</td>\n",
       "      <td>40.487827</td>\n",
       "      <td>EXACT</td>\n",
       "    </tr>\n",
       "  </tbody>\n",
       "</table>\n",
       "</div>"
      ],
      "text/plain": [
       "         _id  REQUEST_ID          CREATED_ON REQUEST_TYPE      REQUEST_ORIGIN  \\\n",
       "39    207609      219773 2018-02-15 08:21:00     Potholes  Report2Gov Android   \n",
       "269   209826      221997 2018-02-19 22:28:00     Potholes             Website   \n",
       "699   266123      279201 2018-08-10 13:15:00     Potholes             Website   \n",
       "1055  220974      233370 2018-03-27 14:06:00     Potholes         Call Center   \n",
       "1074  221264      233827 2018-03-29 08:56:00     Potholes             Twitter   \n",
       "\n",
       "      STATUS                DEPARTMENT   NEIGHBORHOOD  COUNCIL_DISTRICT  WARD  \\\n",
       "39         1            DOMI - Streets  Highland Park               7.0  11.0   \n",
       "269        1  DPW - Street Maintenance  Highland Park               7.0  11.0   \n",
       "699        0  DPW - Street Maintenance  Highland Park               7.0  11.0   \n",
       "1055       1  DPW - Street Maintenance  Highland Park               7.0  11.0   \n",
       "1074       1  DPW - Street Maintenance  Highland Park               7.0  10.0   \n",
       "\n",
       "             TRACT  PUBLIC_WORKS_DIVISION  PLI_DIVISION  POLICE_ZONE  \\\n",
       "39    4.200311e+10                    2.0          11.0          5.0   \n",
       "269   4.200311e+10                    2.0          11.0          5.0   \n",
       "699   4.200311e+10                    2.0          11.0          5.0   \n",
       "1055  4.200311e+10                    2.0          11.0          5.0   \n",
       "1074  4.200310e+10                    2.0          10.0          5.0   \n",
       "\n",
       "     FIRE_ZONE          X          Y GEO_ACCURACY  \n",
       "39         3-9 -79.922092  40.474525        EXACT  \n",
       "269        3-9 -79.926712  40.472106        EXACT  \n",
       "699        3-9 -79.926332  40.472210        EXACT  \n",
       "1055       3-9 -79.916207  40.477545        EXACT  \n",
       "1074       3-7 -79.920057  40.487827        EXACT  "
      ]
     },
     "execution_count": 63,
     "metadata": {},
     "output_type": "execute_result"
    }
   ],
   "source": [
    "\n",
    "highlandpark_potholes = data_311[potholes & highland_park]\n",
    "\n",
    "print(highlandpark_potholes.shape)\n",
    "highlandpark_potholes.head()"
   ]
  },
  {
   "cell_type": "code",
   "execution_count": 79,
   "metadata": {},
   "outputs": [
    {
     "data": {
      "text/plain": [
       "<matplotlib.axes._subplots.AxesSubplot at 0x1e653ee5e48>"
      ]
     },
     "execution_count": 79,
     "metadata": {},
     "output_type": "execute_result"
    },
    {
     "data": {
      "image/png": "[encoded data removed]",
      "text/plain": [
       "<Figure size 720x432 with 1 Axes>"
      ]
     },
     "metadata": {},
     "output_type": "display_data"
    }
   ],
   "source": [
    "#Plot the number of pothole compaints per month of that data set\n",
    "\n",
    "\n",
    "#Change created on to a date-time object \n",
    "#WHERE SHOULD WE PUT THIS????\n",
    "data_311['CREATED_ON'] = pd.to_datetime(data_311['CREATED_ON'])\n",
    "\n",
    "#Change the index to a date time object \n",
    "highlandpark_potholes.index = highlandpark_potholes['CREATED_ON']\n",
    "\n",
    "\n",
    "#Plot the figure \n",
    "highlandpark_potholes['REQUEST_ID'].resample(\"M\").count().plot(title=\"Highland Park Potholes\", figsize=(10,6))"
   ]
  },
  {
   "cell_type": "code",
   "execution_count": null,
   "metadata": {},
   "outputs": [],
   "source": []
  },
  {
   "cell_type": "code",
   "execution_count": null,
   "metadata": {},
   "outputs": [],
   "source": []
  }
 ],
 "metadata": {
  "kernelspec": {
   "display_name": "Python 3",
   "language": "python",
   "name": "python3"
  },
  "language_info": {
   "codemirror_mode": {
    "name": "ipython",
    "version": 3
   },
   "file_extension": ".py",
   "mimetype": "text/x-python",
   "name": "python",
   "nbconvert_exporter": "python",
   "pygments_lexer": "ipython3",
   "version": "3.6.3"
  }
 },
 "nbformat": 4,
 "nbformat_minor": 2
}
