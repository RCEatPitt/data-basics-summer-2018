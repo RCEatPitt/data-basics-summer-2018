{
 "cells": [
  {
   "cell_type": "markdown",
   "metadata": {},
   "source": [
    "# Introduction"
   ]
  },
  {
   "cell_type": "markdown",
   "metadata": {},
   "source": [
    "## Why do we care about Python?\n",
    "\n",
    "**Federalist papers**\n",
    "\n",
    "Alexander Hamilton, James Madison, or John Jay?  For more than 150 years, historians argued over the authorship of the 12 essays in _The Federalist Papers_. It wasn't until 1963 that the mystery was solved by Frederick Mosteller of Harvard University and David Wallace of the University of Chicago. [Nabokov's Favorite Word Is _Mauve_ by Ben Blatt]\n",
    "\n",
    "Full text of _The Federalist Papers_ is available at http://www.gutenberg.org/ebooks/1404"
   ]
  },
  {
   "cell_type": "code",
   "execution_count": null,
   "metadata": {
    "collapsed": true
   },
   "outputs": [],
   "source": [
    "# Path to our data file (source file)\n",
    "source_file_name = 'federalist_papers.txt'\n",
    "\n",
    "fed_papers_file = open(source_file_name, 'r')\n",
    "\n",
    "\n",
    "# We can read all text at once\n",
    "all_text = fed_papers_file.read()\n",
    "#print(all_text)"
   ]
  },
  {
   "cell_type": "code",
   "execution_count": null,
   "metadata": {
    "collapsed": true
   },
   "outputs": [],
   "source": [
    "# There are a couple of ways we could find frequencies of the words \"while\" and \"whilst\".  \n",
    "# For now, let's convert our chunk of text into a list of words\n",
    "\n",
    "word_list = all_text.split(\" \")"
   ]
  },
  {
   "cell_type": "code",
   "execution_count": null,
   "metadata": {
    "collapsed": true
   },
   "outputs": [],
   "source": [
    "# Will this work?  Are words always separated by spaces?\n",
    "# While there are better methods for dealing with text parsing (for example, nltk toolkit)\n",
    "# for now we'll take care of things in a quick and dirty way\n",
    "\n",
    "punctuation_marks = ['!','.', ',', ':', ';', '?', '-', '\\n']\n",
    "for pm in punctuation_marks:\n",
    "    all_text = all_text.replace(pm, ' ')\n",
    "                     \n",
    "# print(all_text)"
   ]
  },
  {
   "cell_type": "code",
   "execution_count": null,
   "metadata": {
    "collapsed": true
   },
   "outputs": [],
   "source": [
    "# It would be a good idea to convert everything to lower case before we do anything else\n",
    "all_text = all_text.lower()\n",
    "\n",
    "# Now let's build a list of words\n",
    "word_list = all_text.split(\" \")\n",
    "# print(word_list)"
   ]
  },
  {
   "cell_type": "code",
   "execution_count": null,
   "metadata": {
    "collapsed": true
   },
   "outputs": [],
   "source": [
    "# Now, let's find the frequency for \"while\"\n",
    "\n",
    "freq_while = 0\n",
    "freq_whilst = 0\n",
    "for word in word_list:\n",
    "    if word == \"while\":\n",
    "        freq_while = freq_while + 1\n",
    "    if word == \"whilst\":\n",
    "        freq_whilst = freq_whilst + 1\n",
    "        \n",
    "print(\"The frequency of 'while' is: \" + str(freq_while))\n",
    "print(\"The frequency of 'whilst' is: \" + str(freq_whilst))"
   ]
  },
  {
   "cell_type": "markdown",
   "metadata": {},
   "source": [
    "# Variables"
   ]
  },
  {
   "cell_type": "markdown",
   "metadata": {},
   "source": [
    "**Programming v/s math**\n",
    "\n",
    "_x = 1_\n",
    "\n",
    "* In math this means x is equal to 1\n",
    "* In programming this means the value 1 is stored in variable x\n",
    "\n",
    "_x = x + 1_\n",
    "\n",
    "* In math this is wrong\n",
    "* In programming this is perfectly valid\n",
    "\n"
   ]
  },
  {
   "cell_type": "markdown",
   "metadata": {},
   "source": [
    "**Variables in Python**\n",
    "\n",
    "* A Variable is a SPACE in memory where a VALUE can be stored\n",
    "* The VALUE can change - so it is variable ;)\n",
    "* In Python variable CAN change it’s TYPE\n"
   ]
  },
  {
   "cell_type": "code",
   "execution_count": null,
   "metadata": {
    "collapsed": true
   },
   "outputs": [],
   "source": [
    "x = 5  # x is a number\n",
    "x = 'Hello' # x is a string"
   ]
  },
  {
   "cell_type": "markdown",
   "metadata": {},
   "source": [
    "**Memory Allocation – a metaphor**\n",
    "\n",
    "\n",
    "<img src=\"images/variables/address.jpeg\" />\n",
    "\n",
    "The address _5818 Phillips Avenue, Pittsburgh, PA 15217_ maps to georgraphic coordinates of _40.432392,-79.922378_ -- it is essentially a label for a specific latitude and longitude.\n",
    "\n",
    "You can think of variables as labels for locations in memory where our data is stored."
   ]
  },
  {
   "cell_type": "code",
   "execution_count": null,
   "metadata": {
    "collapsed": true
   },
   "outputs": [],
   "source": [
    "# Integer Variables (int)\n",
    "x = 5 # x contains an integer 5\n",
    "x = x + 2\n",
    "x = x - 4 # What is the value of x now?\n",
    "print(x)"
   ]
  },
  {
   "cell_type": "code",
   "execution_count": null,
   "metadata": {
    "collapsed": true
   },
   "outputs": [],
   "source": [
    "# Floating Point Variables (float)\n",
    "x = 2.5\n",
    "y = 3.7521\n",
    "pi = 3.141592653589793238"
   ]
  },
  {
   "cell_type": "code",
   "execution_count": null,
   "metadata": {
    "collapsed": true
   },
   "outputs": [],
   "source": [
    "# Simple Mathematical Operations\n",
    "x = 5\n",
    "y = 10\n",
    "z = x + y # addition\n",
    "z = x - y # subtraction\n",
    "z = x * y # multiplication\n",
    "z = x / y # division\n",
    "z = x ** y # x to the power of y\n"
   ]
  },
  {
   "cell_type": "code",
   "execution_count": null,
   "metadata": {
    "collapsed": true
   },
   "outputs": [],
   "source": [
    "# String Variables \n",
    "name = \"Bob\"\n",
    "car = \"Ford Pinto\"\n",
    "address = '5818 Phillips Avenue, Pittsburgh, PA 15217'"
   ]
  },
  {
   "cell_type": "code",
   "execution_count": null,
   "metadata": {
    "collapsed": true
   },
   "outputs": [],
   "source": [
    "# Combining strings\n",
    "first_name = 'John'\n",
    "last_name = 'Doe'\n",
    "full_name = 'John' + ' ' + 'Doe'\n",
    "print(full_name)"
   ]
  },
  {
   "cell_type": "code",
   "execution_count": null,
   "metadata": {
    "collapsed": true
   },
   "outputs": [],
   "source": [
    "# Boolean variables\n",
    "x = True\n",
    "y = False"
   ]
  },
  {
   "cell_type": "markdown",
   "metadata": {},
   "source": [
    "**Boolean Truth Table**\n",
    "<img src='images/variables/truth_table.png' />"
   ]
  },
  {
   "cell_type": "code",
   "execution_count": null,
   "metadata": {
    "collapsed": true
   },
   "outputs": [],
   "source": [
    "# Typecasting: converting from one data type to another\n",
    "x = 5\n",
    "y = str(x) # Convert from integer to string\n",
    "\n",
    "x = '5'\n",
    "y = int(x) # Convert from string to integer\n",
    "\n",
    "x = '5'\n",
    "y = float(x) # Convert from a string to a decimal number\n",
    "\n"
   ]
  },
  {
   "cell_type": "markdown",
   "metadata": {},
   "source": [
    "**Exercise: Pythagorean Theorem**\n",
    "\n",
    "This program accepts two input values from the user, one for each\n",
    "side of a right-angle triangle.  The program uses the Pythagorean\n",
    "theorem (c^2 = a^2 + b^2) to calculate the length of the triangle's\n",
    "hypotenuse.\n"
   ]
  },
  {
   "cell_type": "code",
   "execution_count": null,
   "metadata": {
    "collapsed": true
   },
   "outputs": [],
   "source": [
    "# A module allows you to logically organize your Python code. Grouping related code into a module\n",
    "# makes the code easier to understand and use.\n",
    "# Simply, a module is a file consisting of Python code. A module can define functions, classes and variables.\n",
    "# A module can also include runnable code.\n",
    "# math module gives us access to special functions that perform mathematical operations, functions such as square root or power\n",
    "import math"
   ]
  },
  {
   "cell_type": "code",
   "execution_count": null,
   "metadata": {
    "collapsed": true
   },
   "outputs": [],
   "source": [
    "# Get user input for Side A\n",
    "inputSideA = input(\"Enter length of side A \")\n",
    "\n",
    "print(\"Side A: \" + str(inputSideA))"
   ]
  },
  {
   "cell_type": "code",
   "execution_count": null,
   "metadata": {
    "collapsed": true
   },
   "outputs": [],
   "source": [
    "# Get user input for Side B\n",
    "inputSideB = input(\"Enter length of side B \")\n",
    "\n",
    "print(\"Side B: \" + str(inputSideB))"
   ]
  },
  {
   "cell_type": "code",
   "execution_count": null,
   "metadata": {
    "collapsed": true
   },
   "outputs": [],
   "source": [
    "# Values entered through user input are stored as strings (String data type).  We need to\n",
    "# convert sides' lengths from String to float\n",
    "sideA = float(inputSideA)\n",
    "sideB = float(inputSideB)"
   ]
  },
  {
   "cell_type": "code",
   "execution_count": null,
   "metadata": {
    "collapsed": true
   },
   "outputs": [],
   "source": [
    "# Math.pow(a, b) is a function that takes the value of the first argument \"a\"\n",
    "# and raises it to the power of the second argument \"b\"\n",
    "\n",
    "# Calculate square of side A\n",
    "# Note that ** (double asterisk) is an exponent operand.  It performs exponential (power) calculation on operators\n",
    "squareSideA = sideA ** 2\n",
    "\n",
    "# Calculate square of side B\n",
    "squareSideB = sideB ** 2"
   ]
  },
  {
   "cell_type": "code",
   "execution_count": null,
   "metadata": {
    "collapsed": true
   },
   "outputs": [],
   "source": [
    "# Use Pythagorean theorem to calculate the length of the triangle's hypotenuse.\n",
    "# math.sqrt(a) function calculates the square root of the argument \"a\"\n",
    "hypotenuse = math.sqrt(squareSideA + squareSideB)\n"
   ]
  },
  {
   "cell_type": "code",
   "execution_count": null,
   "metadata": {
    "collapsed": true
   },
   "outputs": [],
   "source": [
    "# Print out the results\n",
    "print(\"Given that side A is \" + str(sideA) + \" and side B is \" + str(sideB) + \", the hypotenuse is \" + str(hypotenuse))"
   ]
  },
  {
   "cell_type": "markdown",
   "metadata": {},
   "source": [
    "## Challenge\n",
    "\n",
    "Modify the program to accept input for the lengths of one adjacent side and the hypotenuse of a right triangle. Calculate the second adjacent side."
   ]
  },
  {
   "cell_type": "markdown",
   "metadata": {},
   "source": [
    "**Step 1:** Get user input for Side A"
   ]
  },
  {
   "cell_type": "code",
   "execution_count": null,
   "metadata": {
    "collapsed": true
   },
   "outputs": [],
   "source": [
    "# Step 1 code\n",
    "inputSideA = input(\"Enter length of side A \")\n",
    "\n",
    "print(\"Side A: \" + str(inputSideA))"
   ]
  },
  {
   "cell_type": "markdown",
   "metadata": {},
   "source": [
    "**Step 2:** Get user input for Hypothenuse"
   ]
  },
  {
   "cell_type": "code",
   "execution_count": null,
   "metadata": {
    "collapsed": true
   },
   "outputs": [],
   "source": [
    "# Write Step 2 code here\n"
   ]
  },
  {
   "cell_type": "markdown",
   "metadata": {},
   "source": [
    "**Step 3:** Remember that values entered through user input are stored as strings (String data type).  You will need to convert sides' lengths from _String_ to _float_"
   ]
  },
  {
   "cell_type": "code",
   "execution_count": null,
   "metadata": {
    "collapsed": true
   },
   "outputs": [],
   "source": [
    "# Write Step 3 code here\n"
   ]
  },
  {
   "cell_type": "markdown",
   "metadata": {},
   "source": [
    "**Step 4:** Calculate squares of side A and of hypothenuse"
   ]
  },
  {
   "cell_type": "code",
   "execution_count": null,
   "metadata": {
    "collapsed": true
   },
   "outputs": [],
   "source": [
    "# Write Step 4 code here"
   ]
  },
  {
   "cell_type": "markdown",
   "metadata": {},
   "source": [
    "**Step 5:** Use Pythagorean theorem to calculate the length of Side B\n",
    "\n",
    "_Hint: Side B = square root of square of Hypotenuse - square of Side A)_\n"
   ]
  },
  {
   "cell_type": "code",
   "execution_count": null,
   "metadata": {
    "collapsed": true
   },
   "outputs": [],
   "source": [
    "# Write Step 5 code here"
   ]
  },
  {
   "cell_type": "markdown",
   "metadata": {},
   "source": [
    "**Step 6**: Print results"
   ]
  },
  {
   "cell_type": "code",
   "execution_count": null,
   "metadata": {
    "collapsed": true
   },
   "outputs": [],
   "source": [
    "# Write Step 6 code here"
   ]
  },
  {
   "cell_type": "code",
   "execution_count": null,
   "metadata": {
    "collapsed": true
   },
   "outputs": [],
   "source": []
  },
  {
   "cell_type": "code",
   "execution_count": null,
   "metadata": {
    "collapsed": true
   },
   "outputs": [],
   "source": []
  },
  {
   "cell_type": "code",
   "execution_count": null,
   "metadata": {
    "collapsed": true
   },
   "outputs": [],
   "source": []
  },
  {
   "cell_type": "code",
   "execution_count": null,
   "metadata": {
    "collapsed": true
   },
   "outputs": [],
   "source": []
  },
  {
   "cell_type": "code",
   "execution_count": null,
   "metadata": {
    "collapsed": true
   },
   "outputs": [],
   "source": []
  },
  {
   "cell_type": "markdown",
   "metadata": {},
   "source": [
    "## Pythagorean Theorem Challenge Solution"
   ]
  },
  {
   "cell_type": "code",
   "execution_count": null,
   "metadata": {
    "collapsed": true
   },
   "outputs": [],
   "source": [
    "# Get user input for Side A\n",
    "inputSideA = input(\"Enter length of side A \")\n",
    "\n",
    "print(\"Side A: \" + str(inputSideA))"
   ]
  },
  {
   "cell_type": "code",
   "execution_count": null,
   "metadata": {
    "collapsed": true
   },
   "outputs": [],
   "source": [
    "# Get user input for hypotenuse\n",
    "inputHypotenuse = input(\"Enter length of the hypotenuse \")\n",
    "\n",
    "print(\"Hypotenuse: \" + str(inputHypotenuse))"
   ]
  },
  {
   "cell_type": "code",
   "execution_count": null,
   "metadata": {
    "collapsed": true
   },
   "outputs": [],
   "source": [
    "# Values entered through user input are stored as strings (String data type).  We need to\n",
    "# convert sides' lengths from String to float\n",
    "sideA = float(inputSideA)\n",
    "hypotenuse = float(inputHypotenuse)"
   ]
  },
  {
   "cell_type": "code",
   "execution_count": null,
   "metadata": {
    "collapsed": true
   },
   "outputs": [],
   "source": [
    "# Calculate square of side A\n",
    "squareSideA = sideA ** 2\n",
    "\n",
    "# Calculate square of hypotenuse\n",
    "squareHypotenuse = hypotenuse ** 2"
   ]
  },
  {
   "cell_type": "code",
   "execution_count": null,
   "metadata": {
    "collapsed": true
   },
   "outputs": [],
   "source": [
    "# Use Pythagorean theorem to calculate the length of the triangle's other adjacent side.\n",
    "# We know that Math.pow(hypotenuse, 2) = Math.pow(sideA, 2) + Math.pow(sideB, 2)\n",
    "# Therefore Math.pow(sideB, 2) = Math.pow(hypotenuse, 2) - Math.pow(sideA, 2)\n",
    "# Finally, we take a square root of both sides:\n",
    "#sideB = Math.sqrt(Math.pow(hypotenuse, 2) - Math.pow(sideA, 2))\n",
    "\n",
    "sideB = math.sqrt(squareHypotenuse - squareSideA)\n"
   ]
  },
  {
   "cell_type": "code",
   "execution_count": null,
   "metadata": {
    "collapsed": true
   },
   "outputs": [],
   "source": [
    "# Print out the results\n",
    "print(\"Given that side A is \" + str(sideA) + \" and the hypotenuse is \" + str(hypotenuse) + \", side B is \" + str(sideB))"
   ]
  },
  {
   "cell_type": "code",
   "execution_count": null,
   "metadata": {
    "collapsed": true
   },
   "outputs": [],
   "source": []
  },
  {
   "cell_type": "code",
   "execution_count": null,
   "metadata": {
    "collapsed": true
   },
   "outputs": [],
   "source": []
  },
  {
   "cell_type": "code",
   "execution_count": null,
   "metadata": {
    "collapsed": true
   },
   "outputs": [],
   "source": []
  },
  {
   "cell_type": "markdown",
   "metadata": {},
   "source": [
    "# Control Flow Statements"
   ]
  },
  {
   "cell_type": "markdown",
   "metadata": {},
   "source": [
    "** The \"_if_\" statement**"
   ]
  },
  {
   "cell_type": "code",
   "execution_count": null,
   "metadata": {
    "collapsed": true
   },
   "outputs": [],
   "source": [
    "# Pay close attention to the equal sign (=)\n",
    "# When we use the equal sign to assign a value to a variable, Python treats it as an \"ASSIGNMENT\" operator\n",
    "# In the line of code below, we are assigning the value of \"True\" to the boolean variable \"condition\"\n",
    "condition = True\n",
    "\n",
    "# When we need to compare two values, we have to use a double equal sign (==), which is a \"COMPARISON\" operator\n",
    "# In the line of code below we compare the value already stored in the boolean varialbe \"condition\" to \"True\"\n",
    "if condition == True:\n",
    "    print(\"The code inside if block gets executed\")"
   ]
  },
  {
   "cell_type": "markdown",
   "metadata": {},
   "source": [
    "**Chained \"_if_\" statements**"
   ]
  },
  {
   "cell_type": "code",
   "execution_count": null,
   "metadata": {
    "collapsed": true
   },
   "outputs": [],
   "source": [
    "# In this example, we evaluate multiple \"if\" statements and execute them sequentially\n",
    "condition = True\n",
    "\n",
    "if condition == True:\n",
    "    print(\"The code inside if block gets executed\")\n",
    "    \n",
    "if condition == False:\n",
    "    print(\"The code inside this block will not be executed\")\n"
   ]
  },
  {
   "cell_type": "code",
   "execution_count": null,
   "metadata": {
    "collapsed": true
   },
   "outputs": [],
   "source": [
    "# Let's try the same thing, but this time with user input\n",
    "\n",
    "user_input_str = input(\"Please enter a number: \\n\")\n",
    "user_input_num = int(user_input_str)\n",
    "if user_input_num > 10:\n",
    "    print(\"You entered number \" + str(user_input_num) + \". That number is greater than 10\")\n",
    "\n",
    "if user_input_num < 10:\n",
    "    print(\"You entered number \" + str(user_input_num) + \". That number is less than 10\")\n",
    "    \n",
    "\n",
    "# Question 1: What is wrong with the code above?\n",
    "\n",
    "# Question 2: without knowing anything else about conditional \n",
    "# statements in Python, can you guess why the code above is ineficient?\n",
    "\n",
    "\n"
   ]
  },
  {
   "cell_type": "code",
   "execution_count": null,
   "metadata": {
    "collapsed": true
   },
   "outputs": [],
   "source": []
  },
  {
   "cell_type": "code",
   "execution_count": null,
   "metadata": {
    "collapsed": true
   },
   "outputs": [],
   "source": []
  },
  {
   "cell_type": "code",
   "execution_count": null,
   "metadata": {
    "collapsed": true
   },
   "outputs": [],
   "source": [
    "# Let's fix this\n",
    "user_input_str = input(\"Please enter a number: \\n\")\n",
    "user_input_num = int(user_input_str)\n",
    "if user_input_num > 10:\n",
    "    print(\"You entered number \" + str(user_input_num) + \". That number is greater than 10\")\n",
    "else:\n",
    "    print(\"You entered number \" + str(user_input_num) + \". That number is less than or equal to 10\")"
   ]
  },
  {
   "cell_type": "code",
   "execution_count": null,
   "metadata": {
    "collapsed": true
   },
   "outputs": [],
   "source": [
    "# What if we want more than two conditions?\n",
    "\n",
    "user_input_str = input(\"Please enter a number: \\n\")\n",
    "user_input_num = int(user_input_str)\n",
    "if user_input_num > 10:\n",
    "    print(\"You entered number \" + str(user_input_num) + \". That number is greater than 10\")\n",
    "elif user_input_num == 10:\n",
    "    print(\"You entered number \" + str(user_input_num) + \". That number equals to 10\")\n",
    "else:\n",
    "    print(\"You entered number \" + str(user_input_num) + \". That number is less than 10\")\n",
    "    \n"
   ]
  },
  {
   "cell_type": "markdown",
   "metadata": {},
   "source": [
    "### Exercise\n",
    "\n",
    "**Lucky Number**\n",
    "\n",
    "Many cultures consider number 7 to be a lucky number.  This program takes a numeric\n",
    "input from a user and checks if the input is a \"lucky\" number."
   ]
  },
  {
   "cell_type": "code",
   "execution_count": null,
   "metadata": {
    "collapsed": true
   },
   "outputs": [],
   "source": [
    "# We will declare our lucky number 7 as a variable\n",
    "LUCKY_NUMBER = 7"
   ]
  },
  {
   "cell_type": "code",
   "execution_count": null,
   "metadata": {
    "collapsed": true
   },
   "outputs": [],
   "source": [
    "# Ask user to input a number.  Note that even though the user will enter a number,\n",
    "# Python will treat the input as a string\n",
    "user_input = input(\"Please enter a number:\")\n",
    "\n",
    "print(\"You entered: \" + user_input)"
   ]
  },
  {
   "cell_type": "code",
   "execution_count": null,
   "metadata": {
    "collapsed": true
   },
   "outputs": [],
   "source": [
    "# Now we need to convert the input string to a number.  In this case, we will convert the\n",
    "# input string to an integer\n",
    "num = int(user_input)"
   ]
  },
  {
   "cell_type": "code",
   "execution_count": null,
   "metadata": {
    "collapsed": true
   },
   "outputs": [],
   "source": [
    "# Check if the number equals to 7.  Note that we are using a comparison operator\n",
    "# (double-equal sign ==) instead of the assignment operator (single equal sign =)\n",
    "# Also important to note that Python will not concatenate strings with other data types,\n",
    "# such as integers, so we need to cast / convert all non-string types to string during\n",
    "# concatenation\n",
    "if num == LUCKY_NUMBER:\n",
    "    print(\"You entered the lucky number \" + str(LUCKY_NUMBER) + \"!\")\n",
    "else:\n",
    "    print(\"You entered number \" + str(num) + \".  It may be a lucky number for you, but it's not the lucky number \" + str(LUCKY_NUMBER) + \"!\")"
   ]
  },
  {
   "cell_type": "code",
   "execution_count": null,
   "metadata": {
    "collapsed": true
   },
   "outputs": [],
   "source": []
  },
  {
   "cell_type": "code",
   "execution_count": null,
   "metadata": {
    "collapsed": true
   },
   "outputs": [],
   "source": []
  },
  {
   "cell_type": "code",
   "execution_count": null,
   "metadata": {
    "collapsed": true
   },
   "outputs": [],
   "source": []
  },
  {
   "cell_type": "code",
   "execution_count": null,
   "metadata": {
    "collapsed": true
   },
   "outputs": [],
   "source": []
  },
  {
   "cell_type": "code",
   "execution_count": null,
   "metadata": {
    "collapsed": true
   },
   "outputs": [],
   "source": []
  },
  {
   "cell_type": "markdown",
   "metadata": {},
   "source": [
    "**Lucky Number: Challenge 1**\n",
    "\n",
    "Some users will try to submit a blank input.  When user submits input without entering a value, input string will be empty, or equal to a blank string (\"\"). Make sure to validate user inputs"
   ]
  },
  {
   "cell_type": "code",
   "execution_count": null,
   "metadata": {
    "collapsed": true
   },
   "outputs": [],
   "source": [
    "# We will declare our lucky number 7 as a variable\n",
    "LUCKY_NUMBER = 7\n",
    "# Ask user to input a number.  Note that even though the user will enter a number,\n",
    "# Python will treat the input as a string\n",
    "user_input = input(\"Please enter a number:\")\n",
    "\n",
    "print(\"You entered: \" + user_input)"
   ]
  },
  {
   "cell_type": "code",
   "execution_count": null,
   "metadata": {
    "collapsed": true
   },
   "outputs": [],
   "source": [
    "# Write your challenge solution code here\n",
    "# Hint: Python has a built-in function that checks if the \n",
    "# value is numeric.  Use Google to figure out the name of that function \n",
    "# and how to use it."
   ]
  },
  {
   "cell_type": "code",
   "execution_count": null,
   "metadata": {
    "collapsed": true
   },
   "outputs": [],
   "source": []
  },
  {
   "cell_type": "code",
   "execution_count": null,
   "metadata": {
    "collapsed": true
   },
   "outputs": [],
   "source": []
  },
  {
   "cell_type": "code",
   "execution_count": null,
   "metadata": {
    "collapsed": true
   },
   "outputs": [],
   "source": []
  },
  {
   "cell_type": "code",
   "execution_count": null,
   "metadata": {
    "collapsed": true
   },
   "outputs": [],
   "source": []
  },
  {
   "cell_type": "markdown",
   "metadata": {},
   "source": [
    "**Lucky Number: Challenge 1 Solution**"
   ]
  },
  {
   "cell_type": "code",
   "execution_count": null,
   "metadata": {
    "collapsed": true
   },
   "outputs": [],
   "source": [
    "# We will declare our lucky number 7 as a variable\n",
    "LUCKY_NUMBER = 7\n",
    "# Ask user to input a number.  Note that even though the user will enter a number,\n",
    "# Python will treat the input as a string\n",
    "user_input = input(\"Please enter a number:\")\n",
    "\n",
    "print(\"You entered: \" + user_input)"
   ]
  },
  {
   "cell_type": "code",
   "execution_count": null,
   "metadata": {
    "collapsed": true
   },
   "outputs": [],
   "source": [
    "# Python has a built-in function that checks if the value is numeric:\n",
    "if user_input.isdigit():\n",
    "    # Now we need to convert the input string to a number.  \n",
    "    # In this case, we will convert the input string to an integer\n",
    "    num = int(user_input)\n",
    "\n",
    "    # Check if the number equals to 7.  Note that we are using a comparison operator\n",
    "    # (double-equal sign ==) instead of the assignment operator (single equal sign =)\n",
    "    if num == LUCKY_NUMBER:\n",
    "        print(\"You entered the lucky number \" + str(LUCKY_NUMBER) + \"!\")\n",
    "    else:\n",
    "        print(\"You entered number \" + str(num) + \".  It may be a lucky number for you, but it's not the lucky number \" + str(LUCKY_NUMBER) + \"!\")\n",
    "else:\n",
    "    #Display an error message\n",
    "    print(\"Hey, if you want us to tell you your lucky number, you actually have to enter one!\")\n"
   ]
  },
  {
   "cell_type": "code",
   "execution_count": null,
   "metadata": {
    "collapsed": true
   },
   "outputs": [],
   "source": []
  },
  {
   "cell_type": "code",
   "execution_count": null,
   "metadata": {
    "collapsed": true
   },
   "outputs": [],
   "source": []
  },
  {
   "cell_type": "code",
   "execution_count": null,
   "metadata": {
    "collapsed": true
   },
   "outputs": [],
   "source": []
  },
  {
   "cell_type": "markdown",
   "metadata": {},
   "source": [
    "**Lucky Number: Challenge 2**\n",
    "\n",
    "In Italy number **17** is also considered unlucky. The unluckiness of seventeen in Italian culture\n",
    "dates back to the Roman times.  Seventeen in Roman numnerals is XVII, which is an anagram for VIXI,\n",
    "which is Latin for \"I Lived\" and is a common marking on Roman tombstones.\n",
    "Modify the program below to not only check for lucky number 7, but also for unlucky numbers 13 and 17\n",
    "and to display appropriate messages."
   ]
  },
  {
   "cell_type": "code",
   "execution_count": null,
   "metadata": {
    "collapsed": true
   },
   "outputs": [],
   "source": [
    "# We will declare and initialize our lucky number 7 as a variable\n",
    "LUCKY_NUMBER = 7\n",
    "\n",
    "# Declare and initialize unlucky numbers as varialbes\n",
    "UNLUCKY_NUMBER1 = 13\n",
    "UNLUCKY_NUMBER2 = 17"
   ]
  },
  {
   "cell_type": "markdown",
   "metadata": {},
   "source": [
    "**Step 1: **Get user input"
   ]
  },
  {
   "cell_type": "code",
   "execution_count": null,
   "metadata": {
    "collapsed": true
   },
   "outputs": [],
   "source": [
    "# Write Step 1 code here\n"
   ]
  },
  {
   "cell_type": "markdown",
   "metadata": {},
   "source": [
    "**Step 2: **Convert user input to integer"
   ]
  },
  {
   "cell_type": "code",
   "execution_count": null,
   "metadata": {
    "collapsed": true
   },
   "outputs": [],
   "source": [
    "# Write Step 2 code here\n"
   ]
  },
  {
   "cell_type": "markdown",
   "metadata": {},
   "source": [
    "**Step 3: **Check if the number equals to 7 or 13 or 17. Display appropriate messages"
   ]
  },
  {
   "cell_type": "code",
   "execution_count": null,
   "metadata": {
    "collapsed": true
   },
   "outputs": [],
   "source": [
    "# Write Step 3 code here"
   ]
  },
  {
   "cell_type": "code",
   "execution_count": null,
   "metadata": {
    "collapsed": true
   },
   "outputs": [],
   "source": []
  },
  {
   "cell_type": "code",
   "execution_count": null,
   "metadata": {
    "collapsed": true
   },
   "outputs": [],
   "source": []
  },
  {
   "cell_type": "markdown",
   "metadata": {},
   "source": [
    "**Lucky Number: Challenge 2 Solution**"
   ]
  },
  {
   "cell_type": "code",
   "execution_count": null,
   "metadata": {
    "collapsed": true
   },
   "outputs": [],
   "source": [
    "# We will declare and initialize our lucky number 7 as a variable\n",
    "LUCKY_NUMBER = 7\n",
    "\n",
    "# Declare and initialize unlucky numbers as varialbes\n",
    "UNLUCKY_NUMBER1 = 13\n",
    "UNLUCKY_NUMBER2 = 17"
   ]
  },
  {
   "cell_type": "code",
   "execution_count": null,
   "metadata": {
    "collapsed": true
   },
   "outputs": [],
   "source": [
    "# Ask user to input a number.  Note that even though the user will enter a number,\n",
    "# Python will treat the input as a string\n",
    "user_input = input(\"Please enter a number:\")\n",
    "\n",
    "print(\"You entered: \" + user_input)"
   ]
  },
  {
   "cell_type": "code",
   "execution_count": null,
   "metadata": {
    "collapsed": true
   },
   "outputs": [],
   "source": [
    "# Now we need to convert the input string to a number.  In this case, we will convert the\n",
    "# input string to an integer\n",
    "num = int(user_input)"
   ]
  },
  {
   "cell_type": "code",
   "execution_count": null,
   "metadata": {
    "collapsed": true
   },
   "outputs": [],
   "source": [
    "# Check if the number equals to 7.  Note that we are using a comparison operator\n",
    "# (double-equal sign ==) instead of the assignment operator (single equal sign =)\n",
    "if num == LUCKY_NUMBER:\n",
    "    print(\"You entered the lucky number \" + str(LUCKY_NUMBER) + \"!\")\n",
    "elif num == UNLUCKY_NUMBER1 or num == UNLUCKY_NUMBER2:\n",
    "    # Check if the number equals to 13 or 17\n",
    "    print(\"You entered an extremely unlucky number of \" + str(num) + \"! Be more careful with your inputs in the future.\")\n",
    "else:\n",
    "    print(\"You entered number \" + str(num) + \".  It may be a lucky number for you, but it's not the lucky number \" + str(LUCKY_NUMBER) + \"!\")\n"
   ]
  },
  {
   "cell_type": "code",
   "execution_count": null,
   "metadata": {
    "collapsed": true
   },
   "outputs": [],
   "source": []
  },
  {
   "cell_type": "code",
   "execution_count": null,
   "metadata": {
    "collapsed": true
   },
   "outputs": [],
   "source": []
  },
  {
   "cell_type": "markdown",
   "metadata": {},
   "source": [
    "# Lists"
   ]
  },
  {
   "cell_type": "markdown",
   "metadata": {},
   "source": [
    "**Resources:**\n",
    "\n",
    "* https://www.tutorialspoint.com/python/python_lists.htm\n",
    "\n",
    "**List data structure**\n",
    "\n",
    "* A Python list is a sequence of values\n",
    "* Values in a Python list can by of any datatype\n",
    "* Each element of a sequence is assigned a number - its position or index. The first index is zero, the second index is one, and so forth.\n",
    "\n"
   ]
  },
  {
   "cell_type": "code",
   "execution_count": null,
   "metadata": {
    "collapsed": true
   },
   "outputs": [],
   "source": [
    "# Creating Lists\n",
    "list1 = ['apples', 'oranges', 'pears', 'peaches'];\n",
    "list2 = [1, 2, 3, 4, 5];\n",
    "list3 = [\"a\", \"b\", \"c\", \"d\"]\n",
    "# Note that the following list contains mixed data types\n",
    "list4 = [\"1\", \"2\", \"x\", \"y\", \"z\", True] "
   ]
  },
  {
   "cell_type": "code",
   "execution_count": null,
   "metadata": {
    "collapsed": true
   },
   "outputs": [],
   "source": [
    "# Accessing Values in Lists\n",
    "fruits = ['apples', 'oranges', 'pears', 'peaches', 'berries'];\n",
    "print(fruits[0]) # Get the first element of the list\n",
    "print(fruits[0:2]) # Get the first two elements of the list\n",
    "print(fruits[:3]) # Get everything before the element with index 3\n",
    "print(fruits[3:]) # Get everything starting with the element with index 3\n",
    "print(fruits[-1]) # Get the last element of the list"
   ]
  },
  {
   "cell_type": "code",
   "execution_count": null,
   "metadata": {
    "collapsed": true
   },
   "outputs": [],
   "source": [
    "# Updating Lists\n",
    "fruits = ['apples', 'oranges', 'pears', 'peaches', 'berries'];\n",
    "print(\"Value at index 2 is: \" + fruits[2])\n",
    "fruits[2] = 'bananas';\n",
    "print(\"New value at index 2 is : \" + fruits[2])"
   ]
  },
  {
   "cell_type": "code",
   "execution_count": null,
   "metadata": {
    "collapsed": true
   },
   "outputs": [],
   "source": [
    "# Appending to Lists\n",
    "fruits = ['apples', 'oranges', 'pears', 'peaches', 'berries'];\n",
    "print(fruits)\n",
    "fruits.append('bananas')\n",
    "print(fruits)"
   ]
  },
  {
   "cell_type": "code",
   "execution_count": null,
   "metadata": {
    "collapsed": true
   },
   "outputs": [],
   "source": [
    "# Removing Elements from Lists\n",
    "fruits = ['apples', 'oranges', 'pears', 'peaches', 'berries'];\n",
    "print(fruits)\n",
    "del fruits[2];\n",
    "print(fruits)"
   ]
  },
  {
   "cell_type": "code",
   "execution_count": null,
   "metadata": {
    "collapsed": true
   },
   "outputs": [],
   "source": [
    "# Alternatively, you can use the 'remove()' function\n",
    "fruits = ['apples', 'oranges', 'pears', 'peaches', 'berries'];\n",
    "print(fruits)\n",
    "fruits.remove('pears');\n",
    "print(fruits)"
   ]
  },
  {
   "cell_type": "code",
   "execution_count": null,
   "metadata": {
    "collapsed": true
   },
   "outputs": [],
   "source": [
    "# Combining Lists\n",
    "fruits = ['apples', 'oranges', 'pears', 'peaches', 'berries'];\n",
    "vegetables = ['tomatoes', 'cucumbers', 'celery']\n",
    "\n",
    "food = fruits + vegetables\n",
    "print(food)\n"
   ]
  },
  {
   "cell_type": "code",
   "execution_count": null,
   "metadata": {
    "collapsed": true
   },
   "outputs": [],
   "source": [
    "# Sorting Lists\n",
    "fruits = ['apples', 'oranges', 'pears', 'peaches', 'berries'];\n",
    "sorted_fruits = sorted(fruits)\n",
    "print(sorted_fruits)"
   ]
  },
  {
   "cell_type": "markdown",
   "metadata": {},
   "source": [
    "# Dictionaries"
   ]
  },
  {
   "cell_type": "markdown",
   "metadata": {},
   "source": [
    "**Resources:**\n",
    "\n",
    "* https://www.tutorialspoint.com/python/python_dictionary.htm\n",
    "\n",
    "** Dictionary Data Type:**\n",
    "* A dictionary is a collection of items\n",
    "* Each item consists of a key / value pair\n",
    "* The items are separated by commas\n",
    "* Each key is separated from its value by a colon (:)\n",
    "* An empty dictionary without any items is written with just two curly braces: {}.\n",
    "* Keys are unique within a dictionary while values may not be\n",
    "* The values of a dictionary can be of any type, but the keys must be strings or numbers."
   ]
  },
  {
   "cell_type": "code",
   "execution_count": null,
   "metadata": {
    "collapsed": true
   },
   "outputs": [],
   "source": [
    "# Creating a dictionary\n",
    "\n",
    "dict = {\n",
    "    \"John\" : 37,\n",
    "    \"Bob\" : 50,\n",
    "    \"Jane\" : 29,\n",
    "    \"Ann\" : 71\n",
    "}"
   ]
  },
  {
   "cell_type": "code",
   "execution_count": null,
   "metadata": {
    "collapsed": true
   },
   "outputs": [],
   "source": [
    "# Accessing a value from a dictionary by its key\n",
    "print(dict[\"John\"])\n",
    "print(dict[\"Bob\"])\n",
    "print(dict[\"Jane\"])"
   ]
  },
  {
   "cell_type": "code",
   "execution_count": null,
   "metadata": {
    "collapsed": true
   },
   "outputs": [],
   "source": [
    "# Updating Dictionary\n",
    "dict = {\n",
    "    \"John\" : 37,\n",
    "    \"Bob\" : 50,\n",
    "    \"Jane\" : 29,\n",
    "    \"Ann\" : 71\n",
    "}\n",
    "\n",
    "dict[\"John\"] = 38 # Update an item\n",
    "dict[\"Rose\"] = 32 # Add new entry"
   ]
  },
  {
   "cell_type": "code",
   "execution_count": null,
   "metadata": {
    "collapsed": true
   },
   "outputs": [],
   "source": [
    "# Deleting Dictionary Elements\n",
    "dict = {\n",
    "    \"John\" : 37,\n",
    "    \"Bob\" : 50,\n",
    "    \"Jane\" : 29,\n",
    "    \"Ann\" : 71\n",
    "}\n",
    "\n",
    "del dict['John']; # remove entry with key 'John'\n",
    "dict.clear();     # remove all entries in dict\n",
    "del dict ;        # delete entire dictionary"
   ]
  },
  {
   "cell_type": "code",
   "execution_count": null,
   "metadata": {
    "collapsed": true
   },
   "outputs": [],
   "source": [
    "# Lists of dictionaries\n",
    "employees = [\n",
    "    {\n",
    "        \"first_name\" : \"John\",\n",
    "        \"last_name\" : \"Smith\",\n",
    "        \"age\" : 50,\n",
    "        \"has_insurance\" : False\n",
    "    },\n",
    "    {\n",
    "        \"first_name\" : \"Jane\",\n",
    "        \"last_name\" : \"Doe\",\n",
    "        \"age\" : 37,\n",
    "        \"has_insurance\" : True\n",
    "    }\n",
    "]"
   ]
  },
  {
   "cell_type": "markdown",
   "metadata": {},
   "source": [
    "# For Loop"
   ]
  },
  {
   "cell_type": "code",
   "execution_count": null,
   "metadata": {
    "collapsed": true
   },
   "outputs": [],
   "source": [
    "# Iterating through a range of values\n",
    "for i in range(0, 10):\n",
    "    print(i)"
   ]
  },
  {
   "cell_type": "code",
   "execution_count": null,
   "metadata": {
    "collapsed": true
   },
   "outputs": [],
   "source": [
    "# Iterating through a range of values to read from a list\n",
    "fruits = ['apples', 'oranges', 'pears', 'peaches', 'berries'];\n",
    "for i in range(0, len(fruits)):\n",
    "    print(fruits[i])"
   ]
  },
  {
   "cell_type": "code",
   "execution_count": null,
   "metadata": {
    "collapsed": true
   },
   "outputs": [],
   "source": [
    "# Iterating through items in a list\n",
    "fruits = ['apples', 'oranges', 'pears', 'peaches', 'berries'];\n",
    "for item in fruits:\n",
    "    print(item)"
   ]
  },
  {
   "cell_type": "code",
   "execution_count": null,
   "metadata": {
    "collapsed": true
   },
   "outputs": [],
   "source": [
    "# Iterating through a dictionary\n",
    "dict = {\n",
    "    \"John\" : 37,\n",
    "    \"Bob\" : 50,\n",
    "    \"Jane\" : 29,\n",
    "    \"Ann\" : 71\n",
    "}\n",
    "\n",
    "for key, value in dict.items():\n",
    "    print(key, value)"
   ]
  },
  {
   "cell_type": "code",
   "execution_count": null,
   "metadata": {
    "collapsed": true
   },
   "outputs": [],
   "source": [
    "# Iterating through a list of dictionaries\n",
    "employees = [\n",
    "    {\n",
    "        \"first_name\" : \"John\",\n",
    "        \"last_name\" : \"Smith\",\n",
    "        \"age\" : 50,\n",
    "        \"has_insurance\" : False\n",
    "    },\n",
    "    {\n",
    "        \"first_name\" : \"Jane\",\n",
    "        \"last_name\" : \"Doe\",\n",
    "        \"age\" : 37,\n",
    "        \"has_insurance\" : True\n",
    "    }\n",
    "]\n",
    "for employee in employees:\n",
    "    print(\"Employee________________________\")\n",
    "    for key, value in employee.items():\n",
    "        print(key + \": \", value)"
   ]
  },
  {
   "cell_type": "code",
   "execution_count": null,
   "metadata": {
    "collapsed": true
   },
   "outputs": [],
   "source": []
  },
  {
   "cell_type": "markdown",
   "metadata": {},
   "source": [
    "### Exercise:\n",
    "\n",
    "** Shopping List **\n",
    "\n",
    "This program creates a list called groceries and defines two dictionaries, stock and prices. Using these structures, it computes the bill for the list of groceries."
   ]
  },
  {
   "cell_type": "code",
   "execution_count": null,
   "metadata": {
    "collapsed": true
   },
   "outputs": [],
   "source": [
    "# First, create a list called shopping_list that contains the strings \"banana\", \"orange\", and \"apple\"\n",
    "shopping_list = [\"banana\", \"orange\", \"apple\"]"
   ]
  },
  {
   "cell_type": "code",
   "execution_count": null,
   "metadata": {
    "collapsed": true
   },
   "outputs": [],
   "source": [
    "# Next, create the empty prices dictionary\n",
    "prices = {}\n",
    "\n",
    "# We can then add values to the dictionary\n",
    "prices[\"banana\"] = 4\n",
    "prices[\"apple\"] = 2\n",
    "prices[\"orange\"] = 1.5\n",
    "prices[\"pear\"] = 3"
   ]
  },
  {
   "cell_type": "code",
   "execution_count": null,
   "metadata": {
    "collapsed": true
   },
   "outputs": [],
   "source": [
    "# Next, create the stock dictionary\n",
    "# We will use a different method from before and simply create the dictionary all at once\n",
    "# Note that we use commas to separate items and a comma does not appear after the last item in the dictionary\n",
    "# Also note that the dictionary can be declared on one line or multiple\n",
    "stock = {\n",
    "    \"banana\": 6,\n",
    "    \"apple\": 0,\n",
    "    \"orange\": 32,\n",
    "    \"pear\": 15\n",
    "}"
   ]
  },
  {
   "cell_type": "code",
   "execution_count": null,
   "metadata": {
    "collapsed": true
   },
   "outputs": [],
   "source": [
    "# To illustrate how to print out the items in a dictionary along with their associated values, \n",
    "# we can use a loop like the one below\n",
    "for item in prices:\n",
    "    print(item)\n",
    "    print(\"price: \" + str(prices[item]))\n",
    "    print(\"stock: \" + str(stock[item]))"
   ]
  },
  {
   "cell_type": "code",
   "execution_count": null,
   "metadata": {
    "collapsed": true
   },
   "outputs": [],
   "source": [
    "# Now we can compute the bill for the shopping list\n",
    "# We will do this by looping through the items in the list, checking to see if the store has the item in stock,\n",
    "# and adding the price to a variable called grocery_bill\n",
    "# Also, we will update the stock dictionary to reflect any changes in the quantity of a good if it is on the list\n",
    "grocery_bill = 0\n",
    "\n",
    "for item in shopping_list:\n",
    "    if stock[item] > 0:\n",
    "        price = prices[item]\n",
    "        grocery_bill = grocery_bill + price\n",
    "        stock[item] = stock[item] - 1\n",
    "    else:\n",
    "        print(item + \"s are not in stock!\")"
   ]
  },
  {
   "cell_type": "code",
   "execution_count": null,
   "metadata": {
    "collapsed": true
   },
   "outputs": [],
   "source": [
    "# Finally, output the result\n",
    "print(\"Cost of groceries: \" + str(grocery_bill))"
   ]
  },
  {
   "cell_type": "code",
   "execution_count": null,
   "metadata": {
    "collapsed": true
   },
   "outputs": [],
   "source": []
  },
  {
   "cell_type": "markdown",
   "metadata": {},
   "source": [
    "** Shopping List: Challenge 1**\n",
    "\n",
    "Write a loop to determine the value of the store's entire stock. "
   ]
  },
  {
   "cell_type": "code",
   "execution_count": null,
   "metadata": {
    "collapsed": true
   },
   "outputs": [],
   "source": [
    "# Write challenge 1 solution here\n"
   ]
  },
  {
   "cell_type": "code",
   "execution_count": null,
   "metadata": {
    "collapsed": true
   },
   "outputs": [],
   "source": []
  },
  {
   "cell_type": "code",
   "execution_count": null,
   "metadata": {
    "collapsed": true
   },
   "outputs": [],
   "source": []
  },
  {
   "cell_type": "markdown",
   "metadata": {},
   "source": [
    "** Shopping List: Challenge 1 Solution**"
   ]
  },
  {
   "cell_type": "code",
   "execution_count": null,
   "metadata": {
    "collapsed": true
   },
   "outputs": [],
   "source": [
    "# First, create a list called shopping_list that contains the strings \"banana\", \"orange\", and \"apple\"\n",
    "shopping_list = [\"banana\", \"orange\", \"apple\"]"
   ]
  },
  {
   "cell_type": "code",
   "execution_count": null,
   "metadata": {
    "collapsed": true
   },
   "outputs": [],
   "source": [
    "# Next, create the empty prices dictionary\n",
    "prices = {}\n",
    "\n",
    "# We can then add values to the dictionary\n",
    "prices[\"banana\"] = 4\n",
    "prices[\"apple\"] = 2\n",
    "prices[\"orange\"] = 1.5\n",
    "prices[\"pear\"] = 3"
   ]
  },
  {
   "cell_type": "code",
   "execution_count": null,
   "metadata": {
    "collapsed": true
   },
   "outputs": [],
   "source": [
    "# Next, create the stock dictionary\n",
    "# We will use a different method from before and simply create the dictionary all at once\n",
    "# Note that we use commas to separate items and a comma does not appear after the last item in the dictionary\n",
    "# Also note that the dictionary can be declared on one line or multiple\n",
    "stock = {\n",
    "    \"banana\": 6,\n",
    "    \"apple\": 0,\n",
    "    \"orange\": 32,\n",
    "    \"pear\": 15\n",
    "}"
   ]
  },
  {
   "cell_type": "code",
   "execution_count": null,
   "metadata": {
    "collapsed": true
   },
   "outputs": [],
   "source": [
    "# To illustrate how to print out the items in a dictionary along with their associated values, \n",
    "# we can use a loop like the one below\n",
    "for item in prices:\n",
    "    print(item)\n",
    "    print(\"price: \" + str(prices[item]))\n",
    "    print(\"stock: \" + str(stock[item]))"
   ]
  },
  {
   "cell_type": "code",
   "execution_count": null,
   "metadata": {
    "collapsed": true
   },
   "outputs": [],
   "source": [
    "# Now we can compute the bill for the shopping list\n",
    "# We will do this by looping through the items in the list, checking to see if the store has the item in stock,\n",
    "# and adding the price to a variable called grocery_bill\n",
    "# Also, we will update the stock dictionary to reflect any changes in the quantity of a good if it is on the list\n",
    "grocery_bill = 0\n",
    "\n",
    "for item in shopping_list:\n",
    "    if stock[item] > 0:\n",
    "        price = prices[item]\n",
    "        grocery_bill = grocery_bill + price\n",
    "        stock[item] = stock[item] - 1\n",
    "    else:\n",
    "        print(item + \"s are not in stock!\")\n",
    "        \n",
    "print(\"Your total bill is\", grocery_bill)"
   ]
  },
  {
   "cell_type": "code",
   "execution_count": null,
   "metadata": {
    "collapsed": true
   },
   "outputs": [],
   "source": [
    "# Challenge solution\n",
    "total_stock = 0\n",
    "\n",
    "for item in stock:\n",
    "    total_stock = total_stock + stock[item] * prices[item]\n",
    "    \n",
    "print(\"The value of the store's stock is \" + str(total_stock))"
   ]
  },
  {
   "cell_type": "markdown",
   "metadata": {
    "collapsed": true
   },
   "source": [
    "# Functions\n",
    "\n",
    "[https://www.tutorialspoint.com/python/python_functions.htm]\n",
    "\n",
    "* A function is a block of organized, reusable code that is used to perform a single, related action. \n",
    "* Functions provide better modularity for your application and a high degree of code reusing.\n",
    "\n",
    "### Defining a Function\n",
    "\n",
    "* Function blocks begin with the keyword _def_ followed by the function name and parentheses _(  )_.\n",
    "* Any input parameters or arguments should be placed within these parentheses. You can also define parameters inside these parentheses.\n",
    "* The code block within every function starts with a colon (:) and is indented.\n",
    "* The statement _return [expression]_ exits a function, optionally passing back an expression to the caller. A return statement with no arguments is the same as return None.\n",
    "\n",
    "### Syntax\n",
    "def functionname( parameters ):\n",
    "\n",
    "    function code\n",
    "    more code\n",
    "    even more code\n",
    "\n",
    "    return [expression]\n"
   ]
  },
  {
   "cell_type": "code",
   "execution_count": 4,
   "metadata": {
    "collapsed": true
   },
   "outputs": [],
   "source": [
    "# Function name: add_two_numbers\n",
    "# Parameter(s): num1, num2\n",
    "# Description: This function adds two numbers\n",
    "# Return: This function returns a sum of two numbers\n",
    "def add_two_numbers(num1, num2):\n",
    "    sum_of_two_numbers = num1 + num2\n",
    "    return sum_of_two_numbers"
   ]
  },
  {
   "cell_type": "code",
   "execution_count": 5,
   "metadata": {},
   "outputs": [
    {
     "name": "stdout",
     "output_type": "stream",
     "text": [
      "12\n"
     ]
    }
   ],
   "source": [
    "# Calling a function\n",
    "result = add_two_numbers(5, 7)\n",
    "print(result)"
   ]
  },
  {
   "cell_type": "markdown",
   "metadata": {
    "collapsed": true
   },
   "source": [
    "# Reading Text Files\n",
    "\n",
    "### Working With CSV Files\n",
    "\n",
    "CSV files are used to store a large number of variables – or data. They are incredibly simplified spreadsheets – think Excel – only the content is stored in plaintext.\n",
    "\n",
    "And the CSV module is a built-in function that allows Python to parse these types of files."
   ]
  },
  {
   "cell_type": "code",
   "execution_count": 1,
   "metadata": {
    "collapsed": true
   },
   "outputs": [],
   "source": [
    "# To parse CSV files, we use the csv module. CSV literally stands for comma separated value, \n",
    "# where the comma is what is known as a \"delimiter.\" The csv module provides a number of built-in\n",
    "# functions to make it easier to parse and iterate through CSV files.\n",
    "import csv"
   ]
  },
  {
   "cell_type": "code",
   "execution_count": 3,
   "metadata": {},
   "outputs": [],
   "source": [
    "# Open the diabetes file.  Note that when Python opens data files and stores them in variables,\n",
    "# the variables DO NOT actually contain text.  In the example below, the diabetes_file \n",
    "# variable stores the file in a special format (one that Python can understand and interpret)\n",
    "diabetes_file = open(\"diabetes.csv\")"
   ]
  },
  {
   "cell_type": "code",
   "execution_count": 4,
   "metadata": {},
   "outputs": [
    {
     "name": "stdout",
     "output_type": "stream",
     "text": [
      "<_io.TextIOWrapper name='diabetes.csv' mode='r' encoding='UTF-8'>\n"
     ]
    }
   ],
   "source": [
    "# See what happens when we try to print the variable where the data file is stored\n",
    "# Essentially, the file is treated as an OBJECT - we'll learn about objects next week\n",
    "print(diabetes_file)"
   ]
  },
  {
   "cell_type": "code",
   "execution_count": 5,
   "metadata": {
    "collapsed": true
   },
   "outputs": [],
   "source": [
    "# Now we need to tell Python that the file stored in diabetes_file variable should be read as \n",
    "# and interpreted as a CSV file.  We do that by calling on the reader() function of the csv module\n",
    "diabetes_data = csv.reader(diabetes_file)"
   ]
  },
  {
   "cell_type": "code",
   "execution_count": 6,
   "metadata": {},
   "outputs": [
    {
     "name": "stdout",
     "output_type": "stream",
     "text": [
      "['id', 'chol', 'stab.glu', 'hdl', 'age', 'gender', 'height', 'weight', 'frame', 'bp.1s', 'bp.1d']\n",
      "['1000', '203', '82', '56', '46', 'female', '62', '121', 'medium', '118', '59']\n",
      "['1001', '165', '97', '24', '29', 'female', '64', '218', 'large', '112', '68']\n",
      "['1002', '228', '92', '37', '58', 'female', '61', '256', 'large', '190', '92']\n",
      "['1003', '78', '93', '12', '67', 'male', '67', '119', 'large', '110', '50']\n",
      "['1005', '249', '90', '28', '64', 'male', '68', '183', 'medium', '138', '80']\n",
      "['1008', '248', '94', '69', '34', 'male', '71', '190', 'large', '132', '86']\n",
      "['1011', '195', '92', '41', '30', 'male', '69', '191', 'medium', '161', '112']\n",
      "['1015', '227', '75', '44', '37', 'male', '59', '170', 'medium', '', '']\n",
      "['1016', '177', '87', '49', '45', 'male', '69', '166', 'large', '160', '80']\n",
      "['1022', '263', '89', '40', '55', 'female', '63', '202', 'small', '108', '72']\n",
      "['1024', '242', '82', '54', '60', 'female', '65', '156', 'medium', '130', '90']\n",
      "['1029', '215', '128', '34', '38', 'female', '58', '195', 'medium', '102', '68']\n",
      "['1030', '238', '75', '36', '27', 'female', '60', '170', 'medium', '130', '80']\n",
      "['1031', '183', '79', '46', '40', 'female', '59', '165', 'medium', '', '']\n",
      "['1035', '191', '76', '30', '36', 'male', '69', '183', 'medium', '100', '66']\n",
      "['1036', '213', '83', '47', '33', 'female', '65', '157', 'medium', '130', '90']\n",
      "['1037', '255', '78', '38', '50', 'female', '65', '183', 'medium', '130', '100']\n",
      "['1041', '230', '112', '64', '20', 'male', '67', '159', 'medium', '100', '90']\n",
      "['1045', '194', '81', '36', '36', 'male', '64', '126', 'medium', '110', '76']\n",
      "['1250', '196', '206', '41', '62', 'female', '65', '196', 'large', '178', '90']\n",
      "['1252', '186', '97', '50', '70', 'male', '67', '178', 'large', '148', '88']\n",
      "['1253', '234', '65', '76', '47', 'male', '67', '230', 'large', '137', '100']\n",
      "['1254', '203', '299', '43', '38', 'female', '69', '288', 'large', '136', '83']\n",
      "['1256', '281', '92', '41', '66', 'female', '62', '185', 'large', '158', '88']\n",
      "['1271', '228', '66', '45', '24', 'female', '61', '113', 'medium', '100', '70']\n",
      "['1277', '179', '80', '92', '41', 'female', '72', '118', 'small', '144', '112']\n",
      "['1280', '232', '87', '30', '37', 'male', '68', '252', 'large', '140', '95']\n",
      "['1281', '', '74', '', '48', 'male', '68', '100', 'small', '120', '85']\n",
      "['1282', '254', '84', '52', '43', 'female', '62', '145', 'medium', '125', '70']\n",
      "['1285', '215', '72', '42', '40', 'male', '70', '189', 'medium', '180', '122']\n",
      "['1301', '177', '101', '36', '42', 'female', '65', '174', 'medium', '146', '94']\n",
      "['1303', '182', '85', '43', '52', 'male', '68', '139', 'large', '130', '90']\n",
      "['1304', '265', '330', '34', '61', 'male', '74', '191', 'medium', '170', '88']\n",
      "['1305', '182', '85', '37', '61', 'female', '69', '174', 'medium', '176', '86']\n",
      "['1309', '199', '87', '63', '25', 'male', '66', '118', 'medium', '120', '78']\n",
      "['1312', '183', '81', '60', '47', 'female', '66', '186', 'medium', '140', '97']\n",
      "['1313', '194', '86', '67', '35', 'male', '66', '159', 'medium', '115', '64']\n",
      "['1314', '190', '107', '32', '46', 'male', '72', '205', 'medium', '', '']\n",
      "['1315', '173', '80', '57', '57', 'male', '71', '145', 'medium', '124', '64']\n",
      "['1316', '182', '206', '43', '70', 'male', '69', '214', 'large', '158', '90']\n",
      "['1317', '136', '81', '51', '22', 'female', '66', '160', 'large', '105', '85']\n",
      "['1321', '218', '68', '46', '52', 'female', '62', '170', 'medium', '142', '79']\n",
      "['1323', '225', '83', '42', '36', 'male', '67', '192', 'large', '149', '89']\n",
      "['1326', '262', '84', '38', '43', 'male', '75', '253', 'large', '124', '80']\n",
      "['1500', '213', '76', '40', '72', 'female', '59', '137', 'large', '130', '60']\n",
      "['1501', '243', '52', '59', '37', 'female', '64', '233', 'medium', '110', '82']\n",
      "['1502', '148', '193', '14', '54', 'female', '67', '165', 'medium', '140', '65']\n",
      "['2004', '128', '223', '24', '60', 'male', '67', '196', 'medium', '110', '68']\n",
      "['2750', '169', '85', '51', '40', 'female', '65', '180', 'medium', '106', '82']\n",
      "['2753', '157', '74', '47', '55', 'female', '66', '219', 'medium', '150', '82']\n",
      "['2754', '196', '82', '58', '76', 'male', '65', '154', '', '158', '78']\n",
      "['2756', '237', '87', '41', '43', 'female', '64', '181', 'medium', '104', '90']\n",
      "['2757', '212', '97', '45', '65', 'female', '61', '187', 'large', '158', '94']\n",
      "['2758', '233', '92', '39', '45', 'female', '64', '167', 'large', '124', '86']\n",
      "['2762', '289', '111', '50', '70', 'female', '60', '220', 'medium', '126', '80']\n",
      "['2763', '193', '106', '63', '20', 'female', '68', '274', 'small', '165', '110']\n",
      "['2765', '204', '128', '61', '62', 'male', '68', '180', 'large', '141', '81']\n",
      "['2770', '165', '94', '69', '92', 'female', '62', '217', 'large', '160', '82']\n",
      "['2773', '237', '233', '58', '49', 'female', '62', '189', 'large', '130', '90']\n",
      "['2774', '218', '88', '39', '44', 'female', '66', '191', 'large', '138', '79']\n",
      "['2775', '296', '262', '60', '74', 'female', '63', '183', 'large', '159', '99']\n",
      "['2777', '178', '78', '59', '36', 'male', '70', '161', 'medium', '130', '79']\n",
      "['2778', '443', '185', '23', '51', 'female', '70', '235', 'medium', '158', '98']\n",
      "['2780', '145', '85', '29', '38', 'female', '', '125', '', '', '']\n",
      "['2784', '234', '80', '63', '31', 'male', '70', '165', 'medium', '121', '71']\n",
      "['2785', '146', '77', '60', '28', 'female', '64', '126', 'small', '120', '90']\n",
      "['2787', '223', '75', '85', '22', 'female', '62', '137', 'medium', '120', '70']\n",
      "['2791', '213', '203', '75', '71', 'female', '63', '165', 'medium', '150', '80']\n",
      "['2793', '173', '131', '69', '76', 'female', '61', '102', 'medium', '160', '60']\n",
      "['2794', '232', '184', '114', '91', 'female', '61', '127', '', '170', '82']\n",
      "['2795', '171', '92', '54', '40', 'male', '71', '214', 'medium', '138', '94']\n",
      "['3250', '164', '86', '40', '23', 'female', '69', '245', 'large', '126', '75']\n",
      "['3750', '170', '69', '64', '20', 'female', '64', '161', 'medium', '108', '70']\n",
      "['3751', '180', '84', '69', '40', 'female', '68', '264', 'medium', '142', '98']\n",
      "['3752', '204', '57', '74', '52', 'male', '75', '142', 'small', '140', '90']\n",
      "['4000', '209', '113', '65', '76', 'female', '60', '143', 'large', '156', '78']\n",
      "['4500', '242', '108', '53', '46', 'female', '62', '183', 'medium', '130', '86']\n",
      "['4501', '134', '105', '42', '48', 'male', '70', '173', 'large', '178', '120']\n",
      "['4506', '217', '81', '60', '22', 'female', '71', '223', 'medium', '120', '75']\n",
      "['4515', '251', '94', '36', '58', 'female', '63', '154', 'large', '174', '75']\n",
      "['4517', '217', '88', '40', '34', 'male', '73', '219', 'medium', '145', '100']\n",
      "['4750', '300', '103', '44', '61', 'female', '67', '169', 'small', '138', '78']\n",
      "['4751', '218', '87', '38', '40', 'male', '73', '200', 'small', '120', '76']\n",
      "['4753', '189', '96', '47', '28', 'female', '64', '200', 'medium', '136', '52']\n",
      "['4758', '185', '84', '52', '53', 'female', '61', '145', 'medium', '147', '72']\n",
      "['4759', '206', '85', '46', '67', 'male', '67', '178', 'large', '119', '68']\n",
      "['4760', '218', '182', '54', '51', 'female', '', '215', 'large', '139', '69']\n",
      "['4761', '189', '75', '72', '49', 'female', '62', '205', 'medium', '120', '80']\n",
      "['4763', '229', '95', '74', '65', 'female', '62', '151', 'medium', '125', '64']\n",
      "['4767', '228', '76', '53', '54', 'male', '66', '170', 'large', '121', '62']\n",
      "['4770', '159', '88', '43', '38', 'male', '68', '169', 'large', '138', '79']\n",
      "['4771', '249', '197', '44', '64', 'female', '63', '159', 'medium', '151', '85']\n",
      "['4772', '170', '106', '42', '41', 'female', '61', '110', 'small', '103', '64']\n",
      "['4776', '174', '125', '44', '67', 'male', '68', '198', 'large', '119', '72']\n",
      "['4780', '204', '62', '70', '27', 'female', '67', '185', 'medium', '110', '90']\n",
      "['4783', '203', '84', '75', '21', 'female', '63', '142', 'medium', '125', '85']\n",
      "['4786', '241', '86', '63', '41', 'female', '59', '139', 'medium', '112', '72']\n",
      "['4787', '245', '120', '39', '47', 'female', '63', '156', 'medium', '142', '102']\n",
      "['4789', '143', '91', '37', '61', 'female', '65', '220', 'large', '160', '92']\n",
      "['4790', '224', '341', '33', '65', 'male', '67', '197', 'medium', '160', '80']\n",
      "['4792', '168', '69', '45', '28', 'female', '63', '200', 'large', '111', '65']\n",
      "['4793', '184', '79', '39', '41', 'male', '69', '154', 'large', '136', '96']\n",
      "['4794', '199', '130', '48', '37', 'female', '61', '203', 'large', '136', '84']\n",
      "['4795', '158', '91', '48', '50', 'male', '71', '180', 'medium', '136', '90']\n",
      "['4796', '209', '176', '55', '57', 'female', '61', '150', 'small', '115', '68']\n",
      "['4801', '214', '111', '59', '28', 'male', '68', '204', 'medium', '130', '90']\n",
      "['4802', '293', '85', '94', '31', 'female', '67', '200', 'medium', '110', '90']\n",
      "['4803', '227', '105', '44', '83', 'female', '59', '125', 'medium', '150', '90']\n",
      "['4805', '292', '235', '55', '79', 'male', '70', '165', '', '170', '90']\n",
      "['4808', '218', '80', '71', '68', 'male', '70', '170', 'large', '130', '73']\n",
      "['4813', '244', '101', '36', '32', 'male', '70', '212', '', '132', '90']\n",
      "['4818', '283', '83', '74', '26', 'male', '72', '227', 'large', '158', '104']\n",
      "['4821', '186', '74', '76', '36', 'male', '69', '150', 'small', '138', '82']\n",
      "['4822', '273', '94', '49', '53', 'female', '64', '174', 'medium', '160', '96']\n",
      "['4823', '193', '77', '49', '19', 'female', '61', '119', 'small', '118', '70']\n",
      "['4825', '194', '80', '34', '63', 'male', '73', '175', 'medium', '131', '88']\n",
      "['4826', '231', '105', '61', '58', 'female', '63', '230', 'large', '141', '99']\n",
      "['4827', '217', '78', '48', '53', 'female', '63', '158', 'medium', '139', '79']\n",
      "['4833', '174', '173', '34', '50', 'male', '70', '263', 'large', '159', '99']\n",
      "['4835', '225', '84', '82', '41', 'male', '71', '156', 'small', '150', '80']\n",
      "['4840', '268', '85', '51', '48', 'male', '70', '120', 'small', '150', '105']\n",
      "['4841', '195', '108', '46', '59', 'female', '67', '172', 'small', '150', '102']\n",
      "['4842', '179', '70', '52', '34', 'male', '72', '170', 'medium', '138', '82']\n",
      "['4843', '215', '119', '44', '63', 'female', '63', '158', 'medium', '160', '68']\n",
      "['10000', '185', '76', '58', '23', 'male', '76', '164', 'small', '124', '78']\n",
      "['10001', '132', '99', '34', '21', 'female', '65', '169', 'large', '112', '62']\n",
      "['10012', '175', '91', '42', '23', 'female', '65', '235', 'medium', '110', '80']\n",
      "['10014', '179', '81', '35', '36', 'female', '63', '125', 'medium', '110', '76']\n",
      "['10016', '228', '115', '61', '71', 'female', '63', '244', 'large', '170', '92']\n",
      "['10020', '181', '177', '24', '64', 'male', '71', '225', 'large', '130', '66']\n",
      "['12002', '160', '100', '36', '43', 'female', '64', '140', 'small', '180', '110']\n",
      "['12004', '188', '77', '45', '31', 'female', '67', '227', 'medium', '122', '70']\n",
      "['12005', '168', '101', '59', '44', 'female', '64', '160', 'small', '130', '88']\n",
      "['12006', '318', '270', '108', '60', 'female', '65', '167', 'medium', '132', '72']\n",
      "['12501', '192', '109', '44', '43', 'female', '64', '325', 'large', '141', '79']\n",
      "['12502', '209', '87', '34', '48', 'female', '63', '121', 'small', '111', '62']\n",
      "['12506', '129', '110', '42', '56', 'male', '74', '151', 'small', '140', '75']\n",
      "['12507', '160', '122', '41', '55', 'female', '67', '223', 'medium', '136', '83']\n",
      "['12509', '160', '196', '33', '49', 'male', '71', '266', 'large', '150', '98']\n",
      "['12751', '211', '48', '34', '58', 'male', '67', '177', 'medium', '162', '78']\n",
      "['12754', '262', '93', '43', '33', 'female', '63', '170', 'medium', '110', '68']\n",
      "['12760', '201', '81', '87', '48', 'female', '68', '146', 'small', '145', '95']\n",
      "['12761', '263', '82', '92', '66', 'female', '66', '121', 'small', '104', '64']\n",
      "['12763', '219', '112', '73', '59', 'male', '66', '170', 'medium', '146', '92']\n",
      "['12765', '191', '83', '88', '45', 'female', '67', '151', 'small', '130', '90']\n",
      "['12766', '171', '97', '69', '52', 'male', '71', '159', 'small', '125', '72']\n",
      "['12768', '219', '112', '73', '76', 'male', '64', '105', 'medium', '125', '82']\n",
      "['12769', '347', '197', '42', '36', 'male', '70', '277', 'large', '140', '86']\n",
      "['12772', '269', '73', '34', '41', 'female', '62', '160', 'medium', '126', '90']\n",
      "['12778', '164', '71', '63', '20', 'male', '72', '145', 'small', '108', '78']\n",
      "['13250', '181', '255', '26', '50', 'male', '71', '320', 'large', '140', '86']\n",
      "['13254', '190', '84', '44', '43', 'female', '62', '163', 'large', '135', '88']\n",
      "['13500', '255', '112', '34', '82', 'male', '66', '163', '', '179', '89']\n",
      "['13501', '218', '126', '32', '35', 'male', '69', '169', 'medium', '139', '90']\n",
      "['13503', '223', '90', '48', '47', 'female', '65', '232', 'large', '120', '86']\n",
      "['13505', '254', '342', '37', '75', 'male', '68', '210', 'large', '151', '87']\n",
      "['14756', '236', '102', '36', '62', 'male', '76', '160', 'large', '150', '80']\n",
      "['14758', '176', '92', '55', '31', 'female', '62', '145', 'small', '110', '72']\n",
      "['15007', '158', '91', '31', '50', 'male', '70', '215', 'large', '138', '89']\n",
      "['15008', '181', '83', '44', '39', 'female', '66', '255', 'medium', '140', '98']\n",
      "['15010', '151', '85', '48', '33', 'male', '69', '308', 'large', '110', '90']\n",
      "['15012', '115', '239', '36', '58', 'male', '69', '', 'medium', '125', '69']\n",
      "['15013', '271', '121', '40', '81', 'female', '64', '158', 'medium', '146', '76']\n",
      "['15016', '190', '92', '44', '27', 'female', '65', '210', 'medium', '150', '106']\n",
      "['15017', '118', '95', '39', '47', 'female', '64', '123', 'small', '140', '76']\n",
      "['15250', '168', '82', '44', '33', 'female', '66', '118', 'small', '98', '66']\n",
      "['15252', '254', '121', '39', '67', 'male', '68', '167', 'large', '161', '118']\n",
      "['15260', '193', '77', '45', '42', 'female', '75', '186', 'medium', '125', '90']\n",
      "['15264', '187', '84', '64', '21', 'female', '63', '158', 'small', '138', '88']\n",
      "['15271', '212', '79', '49', '51', 'female', '65', '145', 'small', '230', '120']\n",
      "['15274', '170', '76', '60', '27', 'female', '63', '119', 'small', '122', '86']\n",
      "['15276', '215', '110', '36', '51', 'female', '67', '282', 'medium', '142', '78']\n",
      "['15277', '199', '85', '59', '71', 'male', '69', '171', 'large', '136', '86']\n",
      "['15278', '140', '385', '31', '50', 'male', '69', '172', 'large', '138', '66']\n",
      "['15279', '216', '79', '46', '54', 'female', '65', '138', 'small', '132', '80']\n",
      "['15500', '204', '113', '35', '59', 'male', '73', '187', 'medium', '148', '76']\n",
      "['15501', '193', '248', '24', '59', 'female', '66', '189', 'medium', '140', '90']\n",
      "['15502', '267', '133', '34', '40', 'female', '59', '204', 'small', '118', '69']\n",
      "['15512', '201', '106', '53', '58', 'male', '66', '215', 'large', '186', '102']\n",
      "['15513', '204', '120', '44', '72', 'male', '65', '167', 'large', '140', '72']\n",
      "['15514', '246', '104', '62', '66', 'female', '66', '189', 'medium', '200', '94']\n",
      "['15515', '229', '91', '43', '23', 'male', '72', '180', 'small', '110', '78']\n",
      "['15516', '172', '101', '46', '42', 'female', '65', '165', 'small', '118', '68']\n",
      "['15517', '197', '120', '37', '43', 'male', '71', '179', 'medium', '146', '98']\n",
      "['15518', '205', '79', '32', '75', 'male', '69', '204', 'large', '136', '90']\n",
      "['15519', '219', '106', '50', '65', 'female', '63', '233', 'large', '140', '90']\n",
      "['15520', '174', '90', '36', '34', 'male', '71', '210', 'medium', '142', '92']\n",
      "['15521', '192', '89', '30', '37', 'male', '71', '195', 'medium', '136', '96']\n",
      "['15522', '206', '94', '44', '61', 'female', '63', '199', 'medium', '180', '96']\n",
      "['15527', '160', '71', '44', '36', 'female', '64', '185', 'medium', '110', '80']\n",
      "['15529', '216', '109', '86', '45', 'female', '67', '147', 'medium', '140', '102']\n",
      "['15540', '236', '111', '82', '68', 'female', '61', '119', 'small', '142', '96']\n",
      "['15542', '205', '88', '41', '57', 'male', '66', '171', 'medium', '132', '82']\n",
      "['15545', '206', '112', '33', '41', 'female', '62', '184', 'small', '104', '80']\n",
      "['15546', '143', '371', '46', '68', 'male', '67', '158', 'small', '138', '82']\n",
      "['15757', '173', '83', '37', '40', 'female', '', '130', 'small', '122', '76']\n",
      "['15758', '235', '91', '37', '79', 'female', '65', '134', 'small', '142', '70']\n",
      "['15760', '169', '95', '29', '62', 'male', '66', '251', 'large', '118', '72']\n",
      "['15761', '283', '145', '39', '63', 'female', '61', '200', 'medium', '190', '110']\n",
      "['15762', '174', '93', '77', '55', 'male', '70', '140', 'medium', '118', '86']\n",
      "['15763', '271', '103', '90', '55', 'female', '63', '114', 'small', '180', '105']\n",
      "['15766', '203', '94', '62', '27', 'female', '67', '209', 'medium', '140', '80']\n",
      "['15773', '188', '174', '24', '66', 'male', '68', '210', 'large', '160', '78']\n",
      "['15777', '293', '87', '120', '63', 'female', '64', '179', 'medium', '142', '80']\n",
      "['15779', '215', '80', '100', '78', 'male', '65', '109', 'small', '170', '88']\n",
      "['15782', '207', '77', '46', '68', 'male', '55', '130', 'small', '199', '115']\n",
      "['15787', '179', '77', '72', '31', 'male', '66', '145', 'medium', '131', '79']\n",
      "['15792', '202', '81', '55', '64', 'female', '62', '167', 'medium', '190', '118']\n",
      "['15795', '211', '98', '40', '40', 'female', '68', '179', 'small', '110', '76']\n",
      "['15797', '211', '225', '29', '61', 'female', '63', '144', 'medium', '190', '100']\n",
      "['15798', '151', '74', '47', '28', 'male', '69', '130', 'small', '135', '75']\n",
      "['15799', '171', '85', '61', '34', 'female', '63', '164', 'medium', '120', '80']\n",
      "['15800', '342', '251', '48', '63', 'female', '65', '201', 'medium', '178', '88']\n",
      "['15801', '179', '236', '63', '55', 'male', '75', '186', 'medium', '122', '74']\n",
      "['15802', '155', '58', '69', '26', 'male', '73', '174', 'small', '110', '76']\n",
      "['15805', '197', '92', '46', '36', 'female', '64', '136', 'small', '', '']\n",
      "['15812', '200', '56', '51', '40', 'female', '62', '105', 'small', '125', '64']\n",
      "['15813', '237', '96', '52', '45', 'male', '69', '130', 'small', '137', '74']\n",
      "['15814', '198', '118', '46', '68', 'female', '63', '124', 'medium', '130', '70']\n",
      "['15815', '240', '88', '49', '82', 'female', '63', '170', 'medium', '180', '86']\n",
      "['15816', '192', '56', '42', '60', 'female', '62', '134', 'small', '130', '70']\n",
      "['15818', '145', '84', '54', '30', 'female', '65', '165', 'small', '102', '56']\n",
      "['15820', '269', '59', '66', '41', 'male', '67', '191', 'large', '130', '73']\n",
      "['15821', '240', '96', '57', '54', 'female', '65', '175', 'medium', '152', '100']\n",
      "['15827', '205', '83', '42', '72', 'female', '61', '180', '', '170', '90']\n",
      "['15828', '266', '82', '54', '47', 'male', '68', '142', 'medium', '118', '78']\n",
      "['16000', '188', '88', '51', '50', 'female', '61', '147', 'large', '160', '66']\n",
      "['16001', '222', '82', '87', '51', 'female', '66', '110', 'small', '150', '110']\n",
      "['16003', '142', '155', '25', '45', 'male', '69', '204', 'large', '165', '115']\n",
      "['16004', '268', '90', '48', '38', 'female', '63', '181', 'medium', '142', '100']\n",
      "['16005', '174', '105', '117', '20', 'male', '70', '187', 'medium', '132', '86']\n",
      "['16016', '214', '87', '35', '44', 'female', '', '190', 'large', '140', '75']\n",
      "['17002', '194', '54', '57', '63', 'male', '70', '181', 'large', '184', '76']\n",
      "['17751', '196', '115', '62', '50', 'male', '67', '140', 'medium', '176', '110']\n",
      "['17752', '207', '187', '46', '44', 'female', '67', '201', 'large', '150', '74']\n",
      "['17754', '204', '89', '56', '48', 'male', '68', '196', 'medium', '170', '96']\n",
      "['17755', '189', '84', '46', '41', 'female', '63', '153', 'medium', '130', '80']\n",
      "['17756', '179', '77', '50', '29', 'male', '68', '170', 'small', '122', '68']\n",
      "['17757', '159', '100', '54', '76', 'male', '66', '188', 'large', '116', '53']\n",
      "['17760', '260', '68', '60', '69', 'female', '59', '179', 'large', '158', '98']\n",
      "['17762', '228', '79', '37', '26', 'male', '72', '259', 'large', '122', '90']\n",
      "['17765', '242', '74', '55', '70', 'female', '66', '200', 'medium', '140', '65']\n",
      "['17766', '227', '98', '66', '25', 'male', '71', '162', 'medium', '123', '82']\n",
      "['17767', '208', '122', '51', '42', 'female', '62', '141', 'large', '118', '78']\n",
      "['17771', '208', '95', '32', '56', 'male', '68', '183', 'medium', '131', '75']\n",
      "['17772', '209', '89', '43', '31', 'female', '67', '160', 'medium', '108', '58']\n",
      "['17773', '163', '83', '57', '31', 'female', '65', '120', 'small', '136', '86']\n",
      "['17776', '201', '100', '46', '27', 'female', '65', '145', 'small', '121', '75']\n",
      "['17781', '237', '118', '45', '73', 'female', '64', '174', 'large', '162', '75']\n",
      "['17784', '176', '90', '34', '32', 'female', '63', '252', 'medium', '100', '72']\n",
      "['17790', '146', '79', '41', '19', 'female', '60', '135', 'medium', '108', '58']\n",
      "['17791', '231', '70', '110', '71', 'female', '63', '155', 'small', '150', '78']\n",
      "['17794', '241', '92', '40', '27', 'female', '63', '179', 'medium', '120', '75']\n",
      "['17795', '305', '91', '44', '31', 'male', '71', '211', 'large', '100', '60']\n",
      "['17800', '149', '77', '49', '20', 'female', '62', '115', 'small', '105', '82']\n",
      "['17802', '183', '69', '51', '31', 'female', '66', '190', 'medium', '125', '70']\n",
      "['17805', '235', '109', '59', '62', 'female', '63', '290', 'large', '175', '80']\n",
      "['17808', '244', '101', '39', '44', 'male', '71', '168', 'medium', '140', '89']\n",
      "['17813', '199', '153', '77', '36', 'female', '66', '255', 'large', '118', '66']\n",
      "['17814', '224', '85', '30', '36', 'male', '69', '205', 'medium', '150', '99']\n",
      "['17816', '173', '225', '31', '47', 'male', '73', '260', 'medium', '150', '98']\n",
      "['17817', '192', '124', '31', '30', 'male', '72', '250', 'medium', '142', '79']\n",
      "['17818', '157', '91', '34', '63', 'male', '69', '166', 'large', '106', '82']\n",
      "['17819', '172', '117', '56', '48', 'female', '63', '170', 'medium', '130', '82']\n",
      "['17828', '170', '67', '33', '65', 'male', '69', '182', 'large', '140', '65']\n",
      "['17829', '215', '97', '46', '59', 'female', '63', '176', 'large', '140', '70']\n",
      "['17830', '214', '67', '47', '37', 'female', '64', '145', 'medium', '108', '76']\n",
      "['17834', '195', '171', '29', '78', 'male', '66', '172', 'large', '130', '82']\n",
      "['17835', '230', '86', '37', '23', 'male', '71', '277', 'large', '150', '99']\n",
      "['17841', '206', '90', '38', '38', 'female', '69', '167', 'medium', '138', '90']\n",
      "['17846', '147', '86', '34', '38', 'male', '69', '205', 'small', '130', '96']\n",
      "['17849', '234', '78', '54', '41', 'male', '67', '183', 'medium', '122', '96']\n",
      "['20254', '135', '88', '34', '29', 'female', '65', '123', 'small', '118', '61']\n",
      "['20258', '226', '68', '83', '49', 'female', '63', '128', 'small', '121', '75']\n",
      "['20260', '179', '75', '36', '23', 'female', '65', '183', 'medium', '120', '80']\n",
      "['20261', '163', '69', '48', '29', 'female', '62', '99', 'small', '125', '60']\n",
      "['20267', '191', '74', '33', '40', 'male', '72', '270', 'large', '136', '70']\n",
      "['20271', '138', '95', '40', '38', 'female', '60', '138', 'small', '140', '90']\n",
      "['20272', '184', '92', '36', '40', 'female', '63', '285', 'large', '142', '98']\n",
      "['20274', '181', '101', '44', '29', 'male', '68', '180', 'medium', '130', '78']\n",
      "['20275', '224', '98', '44', '78', 'female', '63', '160', 'large', '150', '81']\n",
      "['20278', '293', '115', '54', '50', 'male', '71', '170', 'medium', '131', '75']\n",
      "['20279', '147', '78', '42', '23', 'female', '61', '185', '', '127', '71']\n",
      "['20288', '198', '92', '62', '60', 'male', '70', '163', 'medium', '126', '78']\n",
      "['20289', '152', '103', '32', '40', 'female', '52', '187', 'medium', '148', '82']\n",
      "['20290', '277', '119', '62', '60', 'female', '61', '128', 'small', '140', '86']\n",
      "['20292', '219', '105', '63', '40', 'female', '62', '153', 'small', '106', '82']\n",
      "['20293', '182', '74', '44', '30', 'female', '62', '125', 'medium', '132', '80']\n",
      "['20294', '135', '88', '47', '21', 'male', '69', '155', 'small', '110', '68']\n",
      "['20298', '277', '88', '45', '63', 'female', '64', '223', 'medium', '220', '100']\n",
      "['20306', '212', '82', '68', '63', 'male', '70', '161', 'medium', '180', '110']\n",
      "['20308', '162', '76', '40', '43', 'male', '67', '216', 'large', '100', '70']\n",
      "['20309', '207', '102', '43', '46', 'female', '63', '179', 'medium', '212', '114']\n",
      "['20312', '255', '100', '34', '64', 'male', '68', '227', 'medium', '134', '74']\n",
      "['20313', '404', '206', '33', '56', 'male', '69', '159', 'medium', '162', '88']\n",
      "['20314', '239', '97', '55', '35', 'male', '74', '170', 'small', '122', '62']\n",
      "['20315', '220', '95', '58', '59', 'female', '66', '138', 'small', '138', '80']\n",
      "['20318', '165', '76', '46', '22', 'female', '63', '114', 'small', '112', '78']\n",
      "['20325', '243', '74', '42', '43', 'female', '64', '239', 'medium', '128', '90']\n",
      "['20329', '149', '138', '50', '26', 'female', '62', '174', 'medium', '148', '92']\n",
      "['20332', '178', '64', '52', '41', 'female', '65', '188', 'small', '130', '76']\n",
      "['20335', '190', '228', '57', '43', 'female', '65', '198', 'small', '110', '64']\n",
      "['20337', '226', '97', '70', '20', 'female', '64', '114', 'small', '122', '64']\n",
      "['20340', '132', '83', '40', '28', 'female', '68', '225', 'medium', '136', '86']\n",
      "['20343', '160', '82', '41', '30', 'female', '63', '143', 'medium', '172', '124']\n",
      "['20346', '204', '173', '37', '66', 'male', '67', '146', 'medium', '138', '78']\n",
      "['20350', '164', '91', '67', '20', 'female', '70', '141', 'small', '122', '86']\n",
      "['20352', '155', '81', '70', '32', 'female', '65', '151', 'small', '120', '68']\n",
      "['20355', '251', '118', '38', '38', 'female', '64', '248', 'medium', '110', '80']\n",
      "['20361', '198', '86', '66', '61', 'male', '74', '152', 'small', '138', '76']\n",
      "['20365', '179', '90', '60', '26', 'female', '60', '130', 'small', '138', '84']\n",
      "['20367', '223', '88', '42', '74', 'female', '62', '165', 'medium', '250', '100']\n",
      "['20368', '207', '71', '41', '72', 'male', '70', '180', 'medium', '138', '88']\n",
      "['20369', '244', '89', '92', '21', 'male', '71', '163', 'medium', '116', '76']\n",
      "['20750', '245', '119', '26', '36', 'male', '66', '179', 'large', '150', '92']\n",
      "['20754', '191', '81', '53', '42', 'female', '61', '156', 'medium', '138', '84']\n",
      "['20761', '221', '120', '83', '66', 'female', '64', '130', 'small', '110', '64']\n",
      "['20762', '300', '65', '59', '34', 'female', '', '160', 'small', '120', '60']\n",
      "['20765', '173', '85', '58', '43', 'female', '69', '210', 'medium', '130', '75']\n",
      "['20768', '138', '81', '45', '57', 'male', '73', '164', 'small', '148', '81']\n",
      "['20773', '203', '71', '78', '45', 'male', '66', '115', 'small', '135', '88']\n",
      "['20774', '260', '67', '46', '44', 'female', '62', '159', 'small', '140', '94']\n",
      "['20775', '166', '77', '68', '27', 'male', '72', '141', 'small', '110', '58']\n",
      "['20782', '180', '92', '34', '63', 'male', '69', '169', 'small', '145', '72']\n",
      "['20783', '159', '172', '28', '65', 'male', '70', '181', 'large', '142', '81']\n",
      "['20784', '207', '75', '44', '30', 'male', '72', '180', 'small', '118', '62']\n",
      "['20787', '298', '84', '50', '28', 'male', '66', '209', 'medium', '131', '111']\n",
      "['20790', '203', '104', '36', '41', 'male', '71', '210', '', '140', '112']\n",
      "['21254', '191', '155', '58', '31', 'female', '62', '237', 'large', '140', '87']\n",
      "['21255', '231', '84', '91', '33', 'male', '69', '163', 'small', '140', '70']\n",
      "['21257', '184', '76', '42', '66', 'male', '74', '185', 'medium', '130', '75']\n",
      "['21281', '164', '94', '58', '28', 'female', '67', '180', 'small', '128', '94']\n",
      "['21284', '134', '101', '36', '25', 'female', '63', '245', '', '142', '78']\n",
      "['21298', '220', '60', '66', '26', 'male', '70', '150', 'small', '136', '88']\n",
      "['21318', '180', '76', '46', '40', 'female', '64', '146', 'medium', '128', '82']\n",
      "['21320', '216', '155', '30', '38', 'male', '68', '145', 'medium', '110', '60']\n",
      "['21321', '158', '74', '64', '30', 'female', '62', '142', 'medium', '108', '68']\n",
      "['21322', '261', '101', '83', '52', 'female', '64', '198', 'medium', '152', '92']\n",
      "['21323', '172', '70', '36', '22', 'female', '64', '148', 'small', '90', '48']\n",
      "['21329', '249', '81', '28', '51', 'female', '65', '200', 'medium', '122', '90']\n",
      "['21333', '189', '80', '40', '45', 'male', '69', '190', 'large', '140', '75']\n",
      "['21334', '225', '74', '36', '53', 'female', '63', '182', 'large', '126', '80']\n",
      "['21338', '193', '75', '49', '21', 'female', '61', '220', 'small', '130', '82']\n",
      "['21341', '219', '78', '67', '53', 'female', '64', '179', 'medium', '135', '100']\n",
      "['21343', '156', '86', '34', '37', 'female', '67', '212', 'small', '122', '74']\n"
     ]
    },
    {
     "name": "stdout",
     "output_type": "stream",
     "text": [
      "['21345', '224', '71', '42', '34', 'female', '60', '165', 'medium', '135', '80']\n",
      "['21346', '181', '77', '46', '30', 'female', '66', '257', 'medium', '162', '108']\n",
      "['21347', '306', '92', '56', '74', 'male', '69', '184', 'large', '140', '72']\n",
      "['21357', '122', '82', '43', '36', 'female', '71', '183', '', '110', '80']\n",
      "['21359', '219', '130', '44', '45', 'male', '67', '218', 'large', '172', '110']\n",
      "['40251', '150', '80', '38', '35', 'male', '73', '179', 'medium', '138', '92']\n",
      "['40253', '185', '67', '59', '50', 'female', '64', '228', 'medium', '142', '90']\n",
      "['40500', '226', '100', '65', '27', 'male', '69', '289', 'large', '130', '100']\n",
      "['40501', '206', '83', '68', '52', 'male', '69', '153', 'small', '140', '98']\n",
      "['40502', '199', '81', '36', '42', 'female', '67', '235', 'large', '178', '100']\n",
      "['40751', '239', '85', '63', '39', 'male', '60', '144', 'medium', '162', '90']\n",
      "['40754', '235', '106', '37', '73', 'male', '65', '183', 'large', '134', '78']\n",
      "['40755', '184', '99', '36', '28', 'male', '67', '154', 'small', '124', '94']\n",
      "['40762', '242', '297', '34', '53', 'male', '69', '216', 'large', '142', '96']\n",
      "['40764', '307', '87', '58', '49', 'male', '67', '181', 'small', '120', '80']\n",
      "['40772', '204', '94', '54', '55', 'female', '66', '202', 'small', '140', '90']\n",
      "['40773', '212', '88', '36', '37', 'female', '64', '160', 'small', '124', '82']\n",
      "['40774', '203', '90', '51', '60', 'female', '59', '123', 'medium', '130', '72']\n",
      "['40775', '219', '173', '31', '56', 'female', '65', '197', 'small', '100', '50']\n",
      "['40784', '226', '279', '52', '84', 'female', '60', '192', 'small', '144', '88']\n",
      "['40785', '217', '75', '54', '20', 'female', '67', '187', 'medium', '110', '72']\n",
      "['40786', '157', '92', '47', '80', 'male', '71', '212', 'medium', '156', '88']\n",
      "['40787', '235', '102', '42', '60', 'male', '69', '186', 'medium', '148', '98']\n",
      "['40789', '252', '161', '87', '80', 'female', '62', '162', 'small', '160', '100']\n",
      "['40792', '204', '71', '55', '29', 'female', '64', '120', 'small', '110', '70']\n",
      "['40797', '188', '84', '46', '43', 'female', '66', '152', 'small', '122', '80']\n",
      "['40799', '194', '95', '36', '63', 'female', '58', '210', 'medium', '140', '100']\n",
      "['40803', '215', '64', '84', '37', 'female', '59', '148', 'medium', '140', '100']\n",
      "['40804', '179', '105', '60', '20', 'female', '58', '170', 'medium', '140', '100']\n",
      "['40805', '202', '84', '33', '44', 'male', '68', '157', 'small', '125', '80']\n",
      "['41000', '194', '87', '65', '54', 'male', '69', '129', 'small', '170', '96']\n",
      "['41001', '227', '85', '26', '58', 'male', '70', '211', 'large', '144', '82']\n",
      "['41003', '337', '85', '62', '35', 'male', '72', '189', 'medium', '124', '84']\n",
      "['41004', '255', '83', '90', '52', 'male', '70', '120', 'medium', '170', '110']\n",
      "['41021', '162', '90', '46', '60', 'female', '63', '121', 'medium', '110', '64']\n",
      "['41023', '322', '87', '92', '43', 'female', '56', '120', '', '120', '98']\n",
      "['41029', '289', '267', '38', '59', 'male', '68', '169', 'large', '142', '79']\n",
      "['41034', '217', '87', '40', '33', 'female', '62', '186', 'small', '140', '90']\n",
      "['41035', '209', '91', '36', '37', 'male', '70', '262', 'medium', '130', '94']\n",
      "['41036', '214', '77', '48', '40', 'male', '72', '222', 'medium', '120', '84']\n",
      "['41037', '302', '81', '57', '38', 'female', '67', '222', 'medium', '128', '82']\n",
      "['41039', '179', '85', '52', '32', 'female', '62', '179', 'medium', '140', '96']\n",
      "['41041', '279', '270', '40', '60', 'female', '68', '224', 'large', '174', '90']\n",
      "['41055', '144', '81', '28', '30', 'male', '72', '165', 'small', '118', '78']\n",
      "['41063', '270', '73', '40', '42', 'male', '66', '185', 'large', '146', '94']\n",
      "['41065', '196', '120', '67', '52', 'female', '62', '147', 'medium', '144', '94']\n",
      "['41075', '221', '126', '48', '59', 'female', '62', '177', 'medium', '130', '78']\n",
      "['41078', '210', '81', '81', '78', 'male', '66', '145', 'large', '110', '70']\n",
      "['41253', '192', '85', '69', '51', 'male', '65', '146', 'large', '130', '110']\n",
      "['41254', '169', '104', '58', '25', 'female', '60', '154', 'medium', '140', '95']\n",
      "['41500', '179', '85', '50', '37', 'male', '66', '136', 'medium', '190', '94']\n",
      "['41501', '216', '84', '64', '54', 'female', '66', '168', 'medium', '132', '90']\n",
      "['41503', '301', '90', '118', '89', 'female', '61', '115', 'medium', '218', '90']\n",
      "['41506', '296', '369', '46', '53', 'male', '69', '173', 'medium', '138', '94']\n",
      "['41507', '284', '89', '54', '51', 'female', '63', '154', 'medium', '140', '100']\n",
      "['41510', '194', '269', '38', '29', 'female', '69', '167', 'small', '120', '70']\n",
      "['41752', '199', '76', '52', '41', 'female', '63', '197', 'medium', '120', '78']\n",
      "['41756', '159', '88', '79', '68', 'female', '64', '220', 'medium', '100', '72']\n"
     ]
    }
   ],
   "source": [
    "# At this point, the entire CSV file is treated as a table - a collection of rows and columns\n",
    "# We can iterate (loop) through this table and get access to each individual row\n",
    "for row in diabetes_data:\n",
    "    print(row)\n",
    "    "
   ]
  },
  {
   "cell_type": "code",
   "execution_count": 7,
   "metadata": {},
   "outputs": [
    {
     "name": "stdout",
     "output_type": "stream",
     "text": [
      "chol\n",
      "203\n",
      "165\n",
      "228\n",
      "78\n",
      "249\n",
      "248\n",
      "195\n",
      "227\n",
      "177\n",
      "263\n",
      "242\n",
      "215\n",
      "238\n",
      "183\n",
      "191\n",
      "213\n",
      "255\n",
      "230\n",
      "194\n",
      "196\n",
      "186\n",
      "234\n",
      "203\n",
      "281\n",
      "228\n",
      "179\n",
      "232\n",
      "\n",
      "254\n",
      "215\n",
      "177\n",
      "182\n",
      "265\n",
      "182\n",
      "199\n",
      "183\n",
      "194\n",
      "190\n",
      "173\n",
      "182\n",
      "136\n",
      "218\n",
      "225\n",
      "262\n",
      "213\n",
      "243\n",
      "148\n",
      "128\n",
      "169\n",
      "157\n",
      "196\n",
      "237\n",
      "212\n",
      "233\n",
      "289\n",
      "193\n",
      "204\n",
      "165\n",
      "237\n",
      "218\n",
      "296\n",
      "178\n",
      "443\n",
      "145\n",
      "234\n",
      "146\n",
      "223\n",
      "213\n",
      "173\n",
      "232\n",
      "171\n",
      "164\n",
      "170\n",
      "180\n",
      "204\n",
      "209\n",
      "242\n",
      "134\n",
      "217\n",
      "251\n",
      "217\n",
      "300\n",
      "218\n",
      "189\n",
      "185\n",
      "206\n",
      "218\n",
      "189\n",
      "229\n",
      "228\n",
      "159\n",
      "249\n",
      "170\n",
      "174\n",
      "204\n",
      "203\n",
      "241\n",
      "245\n",
      "143\n",
      "224\n",
      "168\n",
      "184\n",
      "199\n",
      "158\n",
      "209\n",
      "214\n",
      "293\n",
      "227\n",
      "292\n",
      "218\n",
      "244\n",
      "283\n",
      "186\n",
      "273\n",
      "193\n",
      "194\n",
      "231\n",
      "217\n",
      "174\n",
      "225\n",
      "268\n",
      "195\n",
      "179\n",
      "215\n",
      "185\n",
      "132\n",
      "175\n",
      "179\n",
      "228\n",
      "181\n",
      "160\n",
      "188\n",
      "168\n",
      "318\n",
      "192\n",
      "209\n",
      "129\n",
      "160\n",
      "160\n",
      "211\n",
      "262\n",
      "201\n",
      "263\n",
      "219\n",
      "191\n",
      "171\n",
      "219\n",
      "347\n",
      "269\n",
      "164\n",
      "181\n",
      "190\n",
      "255\n",
      "218\n",
      "223\n",
      "254\n",
      "236\n",
      "176\n",
      "158\n",
      "181\n",
      "151\n",
      "115\n",
      "271\n",
      "190\n",
      "118\n",
      "168\n",
      "254\n",
      "193\n",
      "187\n",
      "212\n",
      "170\n",
      "215\n",
      "199\n",
      "140\n",
      "216\n",
      "204\n",
      "193\n",
      "267\n",
      "201\n",
      "204\n",
      "246\n",
      "229\n",
      "172\n",
      "197\n",
      "205\n",
      "219\n",
      "174\n",
      "192\n",
      "206\n",
      "160\n",
      "216\n",
      "236\n",
      "205\n",
      "206\n",
      "143\n",
      "173\n",
      "235\n",
      "169\n",
      "283\n",
      "174\n",
      "271\n",
      "203\n",
      "188\n",
      "293\n",
      "215\n",
      "207\n",
      "179\n",
      "202\n",
      "211\n",
      "211\n",
      "151\n",
      "171\n",
      "342\n",
      "179\n",
      "155\n",
      "197\n",
      "200\n",
      "237\n",
      "198\n",
      "240\n",
      "192\n",
      "145\n",
      "269\n",
      "240\n",
      "205\n",
      "266\n",
      "188\n",
      "222\n",
      "142\n",
      "268\n",
      "174\n",
      "214\n",
      "194\n",
      "196\n",
      "207\n",
      "204\n",
      "189\n",
      "179\n",
      "159\n",
      "260\n",
      "228\n",
      "242\n",
      "227\n",
      "208\n",
      "208\n",
      "209\n",
      "163\n",
      "201\n",
      "237\n",
      "176\n",
      "146\n",
      "231\n",
      "241\n",
      "305\n",
      "149\n",
      "183\n",
      "235\n",
      "244\n",
      "199\n",
      "224\n",
      "173\n",
      "192\n",
      "157\n",
      "172\n",
      "170\n",
      "215\n",
      "214\n",
      "195\n",
      "230\n",
      "206\n",
      "147\n",
      "234\n",
      "135\n",
      "226\n",
      "179\n",
      "163\n",
      "191\n",
      "138\n",
      "184\n",
      "181\n",
      "224\n",
      "293\n",
      "147\n",
      "198\n",
      "152\n",
      "277\n",
      "219\n",
      "182\n",
      "135\n",
      "277\n",
      "212\n",
      "162\n",
      "207\n",
      "255\n",
      "404\n",
      "239\n",
      "220\n",
      "165\n",
      "243\n",
      "149\n",
      "178\n",
      "190\n",
      "226\n",
      "132\n",
      "160\n",
      "204\n",
      "164\n",
      "155\n",
      "251\n",
      "198\n",
      "179\n",
      "223\n",
      "207\n",
      "244\n",
      "245\n",
      "191\n",
      "221\n",
      "300\n",
      "173\n",
      "138\n",
      "203\n",
      "260\n",
      "166\n",
      "180\n",
      "159\n",
      "207\n",
      "298\n",
      "203\n",
      "191\n",
      "231\n",
      "184\n",
      "164\n",
      "134\n",
      "220\n",
      "180\n",
      "216\n",
      "158\n",
      "261\n",
      "172\n",
      "249\n",
      "189\n",
      "225\n",
      "193\n",
      "219\n",
      "156\n",
      "224\n",
      "181\n",
      "306\n",
      "122\n",
      "219\n",
      "150\n",
      "185\n",
      "226\n",
      "206\n",
      "199\n",
      "239\n",
      "235\n",
      "184\n",
      "242\n",
      "307\n",
      "204\n",
      "212\n",
      "203\n",
      "219\n",
      "226\n",
      "217\n",
      "157\n",
      "235\n",
      "252\n",
      "204\n",
      "188\n",
      "194\n",
      "215\n",
      "179\n",
      "202\n",
      "194\n",
      "227\n",
      "337\n",
      "255\n",
      "162\n",
      "322\n",
      "289\n",
      "217\n",
      "209\n",
      "214\n",
      "302\n",
      "179\n",
      "279\n",
      "144\n",
      "270\n",
      "196\n",
      "221\n",
      "210\n",
      "192\n",
      "169\n",
      "179\n",
      "216\n",
      "301\n",
      "296\n",
      "284\n",
      "194\n",
      "199\n",
      "159\n"
     ]
    }
   ],
   "source": [
    "# You probably noticed that the row variable is just a list - it is a list of values contained in each column.\n",
    "# You can access individual columns exactly the same way you would access values in a list.\n",
    "# For example, the value of cholesterol is in a column called 'chol', which is a second column and \n",
    "# therefore has the index of 1\n",
    "\n",
    "# Since we already iterated through the CSV file once, we need to tell Python to start at the beginning again\n",
    "# This action is called 'resetting the read position of the file object'\n",
    "diabetes_file.seek(0) \n",
    "\n",
    "for row in diabetes_data:\n",
    "    print(row[1]) # print only the values for the chol column"
   ]
  },
  {
   "cell_type": "code",
   "execution_count": 8,
   "metadata": {},
   "outputs": [
    {
     "name": "stdout",
     "output_type": "stream",
     "text": [
      "203\n",
      "165\n",
      "228\n",
      "78\n",
      "249\n",
      "248\n",
      "195\n",
      "227\n",
      "177\n",
      "263\n",
      "242\n",
      "215\n",
      "238\n",
      "183\n",
      "191\n",
      "213\n",
      "255\n",
      "230\n",
      "194\n",
      "196\n",
      "186\n",
      "234\n",
      "203\n",
      "281\n",
      "228\n",
      "179\n",
      "232\n",
      "\n",
      "254\n",
      "215\n",
      "177\n",
      "182\n",
      "265\n",
      "182\n",
      "199\n",
      "183\n",
      "194\n",
      "190\n",
      "173\n",
      "182\n",
      "136\n",
      "218\n",
      "225\n",
      "262\n",
      "213\n",
      "243\n",
      "148\n",
      "128\n",
      "169\n",
      "157\n",
      "196\n",
      "237\n",
      "212\n",
      "233\n",
      "289\n",
      "193\n",
      "204\n",
      "165\n",
      "237\n",
      "218\n",
      "296\n",
      "178\n",
      "443\n",
      "145\n",
      "234\n",
      "146\n",
      "223\n",
      "213\n",
      "173\n",
      "232\n",
      "171\n",
      "164\n",
      "170\n",
      "180\n",
      "204\n",
      "209\n",
      "242\n",
      "134\n",
      "217\n",
      "251\n",
      "217\n",
      "300\n",
      "218\n",
      "189\n",
      "185\n",
      "206\n",
      "218\n",
      "189\n",
      "229\n",
      "228\n",
      "159\n",
      "249\n",
      "170\n",
      "174\n",
      "204\n",
      "203\n",
      "241\n",
      "245\n",
      "143\n",
      "224\n",
      "168\n",
      "184\n",
      "199\n",
      "158\n",
      "209\n",
      "214\n",
      "293\n",
      "227\n",
      "292\n",
      "218\n",
      "244\n",
      "283\n",
      "186\n",
      "273\n",
      "193\n",
      "194\n",
      "231\n",
      "217\n",
      "174\n",
      "225\n",
      "268\n",
      "195\n",
      "179\n",
      "215\n",
      "185\n",
      "132\n",
      "175\n",
      "179\n",
      "228\n",
      "181\n",
      "160\n",
      "188\n",
      "168\n",
      "318\n",
      "192\n",
      "209\n",
      "129\n",
      "160\n",
      "160\n",
      "211\n",
      "262\n",
      "201\n",
      "263\n",
      "219\n",
      "191\n",
      "171\n",
      "219\n",
      "347\n",
      "269\n",
      "164\n",
      "181\n",
      "190\n",
      "255\n",
      "218\n",
      "223\n",
      "254\n",
      "236\n",
      "176\n",
      "158\n",
      "181\n",
      "151\n",
      "115\n",
      "271\n",
      "190\n",
      "118\n",
      "168\n",
      "254\n",
      "193\n",
      "187\n",
      "212\n",
      "170\n",
      "215\n",
      "199\n",
      "140\n",
      "216\n",
      "204\n",
      "193\n",
      "267\n",
      "201\n",
      "204\n",
      "246\n",
      "229\n",
      "172\n",
      "197\n",
      "205\n",
      "219\n",
      "174\n",
      "192\n",
      "206\n",
      "160\n",
      "216\n",
      "236\n",
      "205\n",
      "206\n",
      "143\n",
      "173\n",
      "235\n",
      "169\n",
      "283\n",
      "174\n",
      "271\n",
      "203\n",
      "188\n",
      "293\n",
      "215\n",
      "207\n",
      "179\n",
      "202\n",
      "211\n",
      "211\n",
      "151\n",
      "171\n",
      "342\n",
      "179\n",
      "155\n",
      "197\n",
      "200\n",
      "237\n",
      "198\n",
      "240\n",
      "192\n",
      "145\n",
      "269\n",
      "240\n",
      "205\n",
      "266\n",
      "188\n",
      "222\n",
      "142\n",
      "268\n",
      "174\n",
      "214\n",
      "194\n",
      "196\n",
      "207\n",
      "204\n",
      "189\n",
      "179\n",
      "159\n",
      "260\n",
      "228\n",
      "242\n",
      "227\n",
      "208\n",
      "208\n",
      "209\n",
      "163\n",
      "201\n",
      "237\n",
      "176\n",
      "146\n",
      "231\n",
      "241\n",
      "305\n",
      "149\n",
      "183\n",
      "235\n",
      "244\n",
      "199\n",
      "224\n",
      "173\n",
      "192\n",
      "157\n",
      "172\n",
      "170\n",
      "215\n",
      "214\n",
      "195\n",
      "230\n",
      "206\n",
      "147\n",
      "234\n",
      "135\n",
      "226\n",
      "179\n",
      "163\n",
      "191\n",
      "138\n",
      "184\n",
      "181\n",
      "224\n",
      "293\n",
      "147\n",
      "198\n",
      "152\n",
      "277\n",
      "219\n",
      "182\n",
      "135\n",
      "277\n",
      "212\n",
      "162\n",
      "207\n",
      "255\n",
      "404\n",
      "239\n",
      "220\n",
      "165\n",
      "243\n",
      "149\n",
      "178\n",
      "190\n",
      "226\n",
      "132\n",
      "160\n",
      "204\n",
      "164\n",
      "155\n",
      "251\n",
      "198\n",
      "179\n",
      "223\n",
      "207\n",
      "244\n",
      "245\n",
      "191\n",
      "221\n",
      "300\n",
      "173\n",
      "138\n",
      "203\n",
      "260\n",
      "166\n",
      "180\n",
      "159\n",
      "207\n",
      "298\n",
      "203\n",
      "191\n",
      "231\n",
      "184\n",
      "164\n",
      "134\n",
      "220\n",
      "180\n",
      "216\n",
      "158\n",
      "261\n",
      "172\n",
      "249\n",
      "189\n",
      "225\n",
      "193\n",
      "219\n",
      "156\n",
      "224\n",
      "181\n",
      "306\n",
      "122\n",
      "219\n",
      "150\n",
      "185\n",
      "226\n",
      "206\n",
      "199\n",
      "239\n",
      "235\n",
      "184\n",
      "242\n",
      "307\n",
      "204\n",
      "212\n",
      "203\n",
      "219\n",
      "226\n",
      "217\n",
      "157\n",
      "235\n",
      "252\n",
      "204\n",
      "188\n",
      "194\n",
      "215\n",
      "179\n",
      "202\n",
      "194\n",
      "227\n",
      "337\n",
      "255\n",
      "162\n",
      "322\n",
      "289\n",
      "217\n",
      "209\n",
      "214\n",
      "302\n",
      "179\n",
      "279\n",
      "144\n",
      "270\n",
      "196\n",
      "221\n",
      "210\n",
      "192\n",
      "169\n",
      "179\n",
      "216\n",
      "301\n",
      "296\n",
      "284\n",
      "194\n",
      "199\n",
      "159\n"
     ]
    }
   ],
   "source": [
    "# You probably also noticed that the first row does not contain data - it's just the column headers\n",
    "# In order for us to do any mathematical or statistical operations on the data, we need to EXCLUDE the header\n",
    "# One way to do this is with a counter variable\n",
    "\n",
    "cnt = 0 # Initialize a temporary counter\n",
    "diabetes_file.seek(0) # Reset the read position of the file object\n",
    "\n",
    "for row in diabetes_data:\n",
    "    # We will only get the values when the counter is greater then zero.\n",
    "    # Because we initialized the counter to zero above, the first row will be \n",
    "    # excluded.  In order for this to work, it is critical to increment \n",
    "    # the counter by one outside of the if statement but inside of the loop\n",
    "    if cnt > 0:\n",
    "        print(row[1]) # print only the values for the chol column\n",
    "    cnt = cnt + 1 # Increment the counter by one"
   ]
  },
  {
   "cell_type": "markdown",
   "metadata": {},
   "source": [
    "**CSV files - Challenge 1**\n",
    "\n",
    "Calculate the _average_ and the _highest (max)_ cholesterol value based on the data available in the dataset.\n"
   ]
  },
  {
   "cell_type": "code",
   "execution_count": 10,
   "metadata": {
    "collapsed": true
   },
   "outputs": [],
   "source": [
    "# Step 1: Import csv module\n",
    "import csv"
   ]
  },
  {
   "cell_type": "code",
   "execution_count": 11,
   "metadata": {
    "collapsed": true
   },
   "outputs": [],
   "source": [
    "# Step 2: Read the csv file\n",
    "diabetes_file = open(\"diabetes.csv\")\n",
    "diabetes_data = csv.reader(diabetes_file)"
   ]
  },
  {
   "cell_type": "code",
   "execution_count": 13,
   "metadata": {},
   "outputs": [
    {
     "name": "stdout",
     "output_type": "stream",
     "text": [
      "203\n",
      "165\n",
      "228\n",
      "78\n",
      "249\n",
      "248\n",
      "195\n",
      "227\n",
      "177\n",
      "263\n",
      "242\n",
      "215\n",
      "238\n",
      "183\n",
      "191\n",
      "213\n",
      "255\n",
      "230\n",
      "194\n",
      "196\n",
      "186\n",
      "234\n",
      "203\n",
      "281\n",
      "228\n",
      "179\n",
      "232\n",
      "\n",
      "254\n",
      "215\n",
      "177\n",
      "182\n",
      "265\n",
      "182\n",
      "199\n",
      "183\n",
      "194\n",
      "190\n",
      "173\n",
      "182\n",
      "136\n",
      "218\n",
      "225\n",
      "262\n",
      "213\n",
      "243\n",
      "148\n",
      "128\n",
      "169\n",
      "157\n",
      "196\n",
      "237\n",
      "212\n",
      "233\n",
      "289\n",
      "193\n",
      "204\n",
      "165\n",
      "237\n",
      "218\n",
      "296\n",
      "178\n",
      "443\n",
      "145\n",
      "234\n",
      "146\n",
      "223\n",
      "213\n",
      "173\n",
      "232\n",
      "171\n",
      "164\n",
      "170\n",
      "180\n",
      "204\n",
      "209\n",
      "242\n",
      "134\n",
      "217\n",
      "251\n",
      "217\n",
      "300\n",
      "218\n",
      "189\n",
      "185\n",
      "206\n",
      "218\n",
      "189\n",
      "229\n",
      "228\n",
      "159\n",
      "249\n",
      "170\n",
      "174\n",
      "204\n",
      "203\n",
      "241\n",
      "245\n",
      "143\n",
      "224\n",
      "168\n",
      "184\n",
      "199\n",
      "158\n",
      "209\n",
      "214\n",
      "293\n",
      "227\n",
      "292\n",
      "218\n",
      "244\n",
      "283\n",
      "186\n",
      "273\n",
      "193\n",
      "194\n",
      "231\n",
      "217\n",
      "174\n",
      "225\n",
      "268\n",
      "195\n",
      "179\n",
      "215\n",
      "185\n",
      "132\n",
      "175\n",
      "179\n",
      "228\n",
      "181\n",
      "160\n",
      "188\n",
      "168\n",
      "318\n",
      "192\n",
      "209\n",
      "129\n",
      "160\n",
      "160\n",
      "211\n",
      "262\n",
      "201\n",
      "263\n",
      "219\n",
      "191\n",
      "171\n",
      "219\n",
      "347\n",
      "269\n",
      "164\n",
      "181\n",
      "190\n",
      "255\n",
      "218\n",
      "223\n",
      "254\n",
      "236\n",
      "176\n",
      "158\n",
      "181\n",
      "151\n",
      "115\n",
      "271\n",
      "190\n",
      "118\n",
      "168\n",
      "254\n",
      "193\n",
      "187\n",
      "212\n",
      "170\n",
      "215\n",
      "199\n",
      "140\n",
      "216\n",
      "204\n",
      "193\n",
      "267\n",
      "201\n",
      "204\n",
      "246\n",
      "229\n",
      "172\n",
      "197\n",
      "205\n",
      "219\n",
      "174\n",
      "192\n",
      "206\n",
      "160\n",
      "216\n",
      "236\n",
      "205\n",
      "206\n",
      "143\n",
      "173\n",
      "235\n",
      "169\n",
      "283\n",
      "174\n",
      "271\n",
      "203\n",
      "188\n",
      "293\n",
      "215\n",
      "207\n",
      "179\n",
      "202\n",
      "211\n",
      "211\n",
      "151\n",
      "171\n",
      "342\n",
      "179\n",
      "155\n",
      "197\n",
      "200\n",
      "237\n",
      "198\n",
      "240\n",
      "192\n",
      "145\n",
      "269\n",
      "240\n",
      "205\n",
      "266\n",
      "188\n",
      "222\n",
      "142\n",
      "268\n",
      "174\n",
      "214\n",
      "194\n",
      "196\n",
      "207\n",
      "204\n",
      "189\n",
      "179\n",
      "159\n",
      "260\n",
      "228\n",
      "242\n",
      "227\n",
      "208\n",
      "208\n",
      "209\n",
      "163\n",
      "201\n",
      "237\n",
      "176\n",
      "146\n",
      "231\n",
      "241\n",
      "305\n",
      "149\n",
      "183\n",
      "235\n",
      "244\n",
      "199\n",
      "224\n",
      "173\n",
      "192\n",
      "157\n",
      "172\n",
      "170\n",
      "215\n",
      "214\n",
      "195\n",
      "230\n",
      "206\n",
      "147\n",
      "234\n",
      "135\n",
      "226\n",
      "179\n",
      "163\n",
      "191\n",
      "138\n",
      "184\n",
      "181\n",
      "224\n",
      "293\n",
      "147\n",
      "198\n",
      "152\n",
      "277\n",
      "219\n",
      "182\n",
      "135\n",
      "277\n",
      "212\n",
      "162\n",
      "207\n",
      "255\n",
      "404\n",
      "239\n",
      "220\n",
      "165\n",
      "243\n",
      "149\n",
      "178\n",
      "190\n",
      "226\n",
      "132\n",
      "160\n",
      "204\n",
      "164\n",
      "155\n",
      "251\n",
      "198\n",
      "179\n",
      "223\n",
      "207\n",
      "244\n",
      "245\n",
      "191\n",
      "221\n",
      "300\n",
      "173\n",
      "138\n",
      "203\n",
      "260\n",
      "166\n",
      "180\n",
      "159\n",
      "207\n",
      "298\n",
      "203\n",
      "191\n",
      "231\n",
      "184\n",
      "164\n",
      "134\n",
      "220\n",
      "180\n",
      "216\n",
      "158\n",
      "261\n",
      "172\n",
      "249\n",
      "189\n",
      "225\n",
      "193\n",
      "219\n",
      "156\n",
      "224\n",
      "181\n",
      "306\n",
      "122\n",
      "219\n",
      "150\n",
      "185\n",
      "226\n",
      "206\n",
      "199\n",
      "239\n",
      "235\n",
      "184\n",
      "242\n",
      "307\n",
      "204\n",
      "212\n",
      "203\n",
      "219\n",
      "226\n",
      "217\n",
      "157\n",
      "235\n",
      "252\n",
      "204\n",
      "188\n",
      "194\n",
      "215\n",
      "179\n",
      "202\n",
      "194\n",
      "227\n",
      "337\n",
      "255\n",
      "162\n",
      "322\n",
      "289\n",
      "217\n",
      "209\n",
      "214\n",
      "302\n",
      "179\n",
      "279\n",
      "144\n",
      "270\n",
      "196\n",
      "221\n",
      "210\n",
      "192\n",
      "169\n",
      "179\n",
      "216\n",
      "301\n",
      "296\n",
      "284\n",
      "194\n",
      "199\n",
      "159\n"
     ]
    }
   ],
   "source": [
    "# Step 3: Iterate through csv data\n",
    "cnt = 0 # Initialize a temporary counter\n",
    "diabetes_file.seek(0) # Reset the read position of the file object\n",
    "\n",
    "# Hint: you'll need to declare variables to store average and maximum cholesterol here (outside of the loop)\n",
    "for row in diabetes_data:\n",
    "    if cnt > 0:\n",
    "        ################################################################################################\n",
    "        # This is where you need to complete the logic for calculating average and maximum cholesterol\n",
    "        ################################################################################################\n",
    "        \n",
    "        print(row[1]) # print only the values for the chol column\n",
    "    cnt = cnt + 1 # Increment the counter by one"
   ]
  },
  {
   "cell_type": "code",
   "execution_count": null,
   "metadata": {
    "collapsed": true
   },
   "outputs": [],
   "source": []
  }
 ],
 "metadata": {
  "kernelspec": {
   "display_name": "Python 3",
   "language": "python",
   "name": "python3"
  },
  "language_info": {
   "codemirror_mode": {
    "name": "ipython",
    "version": 3
   },
   "file_extension": ".py",
   "mimetype": "text/x-python",
   "name": "python",
   "nbconvert_exporter": "python",
   "pygments_lexer": "ipython3",
   "version": "3.6.3"
  }
 },
 "nbformat": 4,
 "nbformat_minor": 2
}
